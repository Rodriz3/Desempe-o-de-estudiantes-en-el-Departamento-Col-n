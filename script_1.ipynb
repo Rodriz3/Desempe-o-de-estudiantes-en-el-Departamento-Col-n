{
 "cells": [
  {
   "cell_type": "code",
   "execution_count": null,
   "metadata": {
    "vscode": {
     "languageId": "r"
    }
   },
   "outputs": [],
   "source": [
    "#LIBRERIAS\n",
    "library(readxl)\n",
    "library(dplyr)\n",
    "library(stringr)"
   ]
  },
  {
   "cell_type": "code",
   "execution_count": null,
   "metadata": {
    "vscode": {
     "languageId": "r"
    }
   },
   "outputs": [],
   "source": [
    "#CARGA DE DATOS\n",
    "options(warn=-1)\n",
    "\n",
    "bd <- read_excel(\"./data/COLON3.xlsx\")"
   ]
  },
  {
   "cell_type": "code",
   "execution_count": null,
   "metadata": {
    "vscode": {
     "languageId": "r"
    }
   },
   "outputs": [],
   "source": [
    "#tamano dataset inicial\n",
    "dim(bd)\n",
    "head(bd)\n",
    "names(bd)"
   ]
  },
  {
   "cell_type": "code",
   "execution_count": null,
   "metadata": {
    "vscode": {
     "languageId": "r"
    }
   },
   "outputs": [],
   "source": [
    "#BUSQUEDA NA\n",
    "sapply(bd, function(x) sum(is.na(x)))"
   ]
  },
  {
   "cell_type": "code",
   "execution_count": null,
   "metadata": {
    "vscode": {
     "languageId": "r"
    }
   },
   "outputs": [],
   "source": [
    "#REORGANIZACION Y LIMPIEZA"
   ]
  },
  {
   "cell_type": "code",
   "execution_count": null,
   "metadata": {
    "vscode": {
     "languageId": "r"
    }
   },
   "outputs": [],
   "source": [
    "#convierto nombre de variables en notacion PascalCase\n",
    "bd <- rename(bd, Departamento = departamento, Localidad = localidad, Turno = turno, Curso = curso)\n",
    "bd <- rename(bd, PeriodoEvaluatorio = periodoEvaluatorio, IdAlumno = idalumno, AnoLectivo = anioLectivo, Asignatura = asignatura)\n",
    "bd <- rename(bd, Nota = nota, Observaciones = observaciones, IdSubOrganizacion = idSubOrganizacion, IdDivision = idDivision)\n",
    "bd <- rename(bd, Orden = orden, MotivoAusente = motivo_ausente, IdOrganizaciones = idOrganizaciones, Division = ddivision)\n",
    "bd <- rename(bd, EsMultiano = esMultianio, ModEnsenanza = ModEnsenaza)"
   ]
  },
  {
   "cell_type": "code",
   "execution_count": null,
   "metadata": {
    "vscode": {
     "languageId": "r"
    }
   },
   "outputs": [],
   "source": [
    "#ELIMINO DATOS DUPLICADOS"
   ]
  },
  {
   "cell_type": "code",
   "execution_count": null,
   "metadata": {
    "vscode": {
     "languageId": "r"
    }
   },
   "outputs": [],
   "source": [
    "bd <- distinct(bd)"
   ]
  },
  {
   "cell_type": "code",
   "execution_count": null,
   "metadata": {
    "vscode": {
     "languageId": "r"
    }
   },
   "outputs": [],
   "source": [
    "bd <- filter(bd, AnoLectivo == \"2022\" & NivelEnsenanza %in% c(\"PRIMARIO\", \"SECUNDARIO\", \"EGB 3\"))\n",
    "bd <- filter(bd, Modalidad %in% c(\"Primaria\", \"Secundaria\"))\n",
    "bd <- filter(bd, ModEnsenanza %in% c(\"Agrotécnica\", \"Comun\", \"Técnica\"))"
   ]
  },
  {
   "cell_type": "code",
   "execution_count": null,
   "metadata": {
    "vscode": {
     "languageId": "r"
    }
   },
   "outputs": [],
   "source": [
    "# Convierto datos de Asignatura todo mayusculas \n",
    "bd$Asignatura <- toupper(bd$Asignatura)"
   ]
  },
  {
   "cell_type": "code",
   "execution_count": null,
   "metadata": {
    "vscode": {
     "languageId": "r"
    }
   },
   "outputs": [],
   "source": [
    "# SEPARO DATASET PRIMARIA / SECUNDARIA\n",
    "bd_primaria <- filter(bd, Modalidad == \"Primaria\")\n",
    "bd_secundaria <- filter(bd, Modalidad == \"Secundaria\")"
   ]
  },
  {
   "cell_type": "code",
   "execution_count": null,
   "metadata": {
    "vscode": {
     "languageId": "r"
    }
   },
   "outputs": [],
   "source": [
    "#FILTRO ASIGNATURAS (Matemática, Lengua, Geografía, Historia, Biología, Física, Química, Inglés, Educación Física)\n",
    "\n",
    "#SECUNDARIA\n",
    "sec_mate <- filter(bd_secundaria ,grepl(\"MATEMATICA\", bd_secundaria$Asignatura, fixed=TRUE))\n",
    "sec_mate <- filter(bd_secundaria, Asignatura == \"MATEMATICA\")\n",
    "\n",
    "sec_lengua <- filter(bd_secundaria ,grepl(\"LENGUA\", bd_secundaria$Asignatura, fixed=TRUE))\n",
    "sec_lengua <- filter(bd_secundaria, Asignatura == \"LENGUA Y LITERATURA\")\n",
    "\n",
    "sec_geo <- filter(bd_secundaria ,grepl(\"GEOGRAFIA\", bd_secundaria$Asignatura, fixed=TRUE))\n",
    "sec_geo <- filter(bd_secundaria, Asignatura %in% c(\"CIENCIAS SOCIALES (GEOGRAFIA)\", \"GEOGRAFIA\", \"GEOGRAFIA I\"))\n",
    "sec_geo <- select(sec_geo, -c(\"Asignatura\"))\n",
    "sec_geo <- mutate(sec_geo, Asignatura = \"GEOGRAFIA\")\n",
    "\n",
    "sec_hist <- filter(bd_secundaria ,grepl(\"HISTORIA\", bd_secundaria$Asignatura, fixed=TRUE))\n",
    "sec_hist <- filter(bd_secundaria, Asignatura %in% c(\"CIENCIAS SOCIALES (HISTORIA)\", \"HISTORIA, HISTORIA I\"))\n",
    "sec_hist <- select(sec_hist, -c(\"Asignatura\"))\n",
    "sec_hist <- mutate(sec_hist, Asignatura = \"HISTORIA\")\n",
    "\n",
    "sec_bio <- filter(bd_secundaria ,grepl(\"BIOLOGIA\", bd_secundaria$Asignatura, fixed=TRUE))\n",
    "sec_bio <- filter(bd_secundaria, Asignatura %in% c(\"BIOLOGIA\",\"BIOLOGIA II\", \"CIENCIAS NATURALES (BIOLOGIA)\", \"CIENCIAS NATURALES BIOLOGIA\"))\n",
    "sec_bio <- select(sec_bio, -c(\"Asignatura\"))\n",
    "sec_bio <- mutate(sec_bio, Asignatura = \"BIOLOGIA\")\n",
    "\n",
    "sec_fisica <- filter(bd_secundaria ,grepl(\"FISICA\", bd_secundaria$Asignatura, fixed=TRUE))\n",
    "sec_fisica <- filter(bd_secundaria, Asignatura %in% c(\"FISICA\", \"FISICA II\"))\n",
    "sec_fisica <- select(sec_fisica, -c(\"Asignatura\"))\n",
    "sec_fisica <- mutate(sec_fisica, Asignatura = \"FISICA\")\n",
    "\n",
    "\n",
    "sec_quimica <- filter(bd_secundaria ,grepl(\"QUIMICA\", bd_secundaria$Asignatura, fixed=TRUE))\n",
    "sec_quimica <- filter(bd_secundaria, Asignatura %in% c(\"QUIMICA\", \"QUIMICA I\", \"QUIMICA II\"))\n",
    "sec_quimica <- select(sec_quimica, -c(\"Asignatura\"))\n",
    "sec_quimica <- mutate(sec_quimica, Asignatura = \"QUIMICA\")\n",
    "\n",
    "sec_fyq <- filter(bd_secundaria, Asignatura %in% c(\"CIENCIAS NATURALES (FISICO QUIMICA)\", \"CIENCIAS NATURALES FISICA QUIMMICA\", \"CIENCIAS NATURALES FISICO-QUIMICA\", \"FISICA Y QUIMICA\"))\n",
    "sec_fyq <- select(sec_fyq, -c(\"Asignatura\"))\n",
    "sec_fyq <- mutate(sec_fyq, Asignatura = \"FISICOQUIMICA\")\n",
    "\n",
    "sec_ingles <- filter(bd_secundaria ,grepl(\"INGLES\", bd_secundaria$Asignatura, fixed=TRUE))\n",
    "sec_ingles <- filter(bd_secundaria, Asignatura %in% c(\"LENGUA EXTRANJERA (INGLES)\", \"LENGUA EXTRANJERA I (INGLES)\", \"LENGUA EXTRANJERA II (INGLES)\", \"LENGUA EXTRANJERA III (INGLES)\"))\n",
    "sec_ingles <- select(sec_ingles, -c(\"Asignatura\"))\n",
    "sec_ingles <- mutate(sec_ingles, Asignatura = \"INGLES\")\n",
    "\n",
    "sec_edfisica <- filter(bd_secundaria ,grepl(\"EDUCACION FISICA\", bd_secundaria$Asignatura, fixed=TRUE))\n",
    "\n",
    "bd_secundaria2 <- rbind(sec_mate, sec_lengua, sec_geo, sec_hist, sec_bio, sec_fisica, sec_quimica, sec_fyq, sec_ingles, sec_edfisica)\n",
    "\n",
    "#PRIMARIA\n",
    "prim_mate <- filter(bd_primaria ,grepl(\"MATEMATICA\", bd_primaria$Asignatura, fixed=TRUE))\n",
    "\n",
    "prim_lengua <- filter(bd_primaria ,grepl(\"LENGUA\", bd_primaria$Asignatura, fixed=TRUE))\n",
    "prim_lengua <- filter(bd_primaria, Asignatura == \"LENGUA\")\n",
    "\n",
    "prim_ciencias_nat <- filter(bd_primaria, grepl(\"CIENCIAS NATURALES\", bd_primaria$Asignatura, fixed=TRUE))\n",
    "prim_ciencias_nat <- filter (bd_primaria, Asignatura == \"CIENCIAS NATURALES\")\n",
    "\n",
    "prim_ciencias_soc <- filter(bd_primaria, grepl(\"CIENCIAS SOCIALES\", bd_primaria$Asignatura, fixed=TRUE))\n",
    "prim_ciencias_soc <- filter(bd_primaria, Asignatura == \"CIENCIAS SOCIALES\")\n",
    "\n",
    "bd_primaria2 <- rbind(prim_mate, prim_lengua, prim_ciencias_nat, prim_ciencias_soc)"
   ]
  },
  {
   "cell_type": "code",
   "execution_count": null,
   "metadata": {
    "vscode": {
     "languageId": "r"
    }
   },
   "outputs": [],
   "source": [
    "bd_secundaria2 %>% group_by(Asignatura) %>% summarise(conteo=n())\n",
    "bd_primaria2 %>% group_by(Asignatura) %>% summarise(conteo=n())"
   ]
  },
  {
   "cell_type": "code",
   "execution_count": null,
   "metadata": {
    "vscode": {
     "languageId": "r"
    }
   },
   "outputs": [],
   "source": [
    "bd1 <- rbind(bd_primaria2, bd_secundaria2)\n",
    "bd1 <- distinct(bd1)"
   ]
  },
  {
   "cell_type": "code",
   "execution_count": null,
   "metadata": {
    "vscode": {
     "languageId": "r"
    }
   },
   "outputs": [],
   "source": [
    "bd1 <- filter(bd1, EsMultiano == \"N\")"
   ]
  },
  {
   "cell_type": "code",
   "execution_count": null,
   "metadata": {
    "vscode": {
     "languageId": "r"
    }
   },
   "outputs": [],
   "source": [
    "# CALCULO PROMEDIOS\n",
    "\n",
    "PrimerT<-filter(bd1,PeriodoEvaluatorio== \"Primer Trimestre\")\n",
    "PrimerT<-rename(PrimerT,NotasPrimerT=Nota) #(nombre,\"nuevo nombre variable\" = \"nombre variable que voy a cambiar\")\n",
    "\n",
    "SegundoT<-filter(bd1,PeriodoEvaluatorio==\"Segundo Trimestre\")\n",
    "SegundoT<-rename(SegundoT,NotasSegundoT=Nota) \n",
    "\n",
    "TercerT<-filter(bd1,PeriodoEvaluatorio==\"Tercer Trimestre\")\n",
    "TercerT<-rename(TercerT,NotasTercerT=Nota) \n",
    "\n",
    "union<-merge(x = PrimerT, y = SegundoT, by = c(\"Documento\", \"Asignatura\")) \n",
    "union2<-merge(x = union, y = TercerT, by = c(\"Documento\", \"Asignatura\"))\n",
    "\n",
    "Notas_COLON<-select(union2, 'Documento', 'Asignatura', 'CUE' , 'Departamento' ,'Localidad', 'EsPrivada' ,'Turno' ,'Curso' ,'IdAlumno' ,'AnoLectivo', \"Observaciones\", 'IdSubOrganizacion', 'IdDivision', 'NivelEnsenanza', 'Orden', 'MotivoAusente', 'IdOrganizaciones', 'Division', 'Nivel', 'EsMultiano', 'IdModEnsenanza' ,'Modalidad', 'ModEnsenanza', 'NotasPrimerT' ,\"NotasSegundoT\", \"NotasTercerT\")\n",
    "Notas_COLON$Promedio<-round((as.numeric(Notas_COLON$NotasPrimerT)+as.numeric(Notas_COLON$NotasSegundoT)+as.numeric(Notas_COLON$NotasTercerT))/3,2) #creo una nueva variable(promedio) y convierto las variables de los trimestres en tipo num con: as.numeric\n",
    "Notas_COLON1<-Notas_COLON %>% mutate(Resultado = case_when(\n",
    "  Promedio >= 6 ~ \"Aprobado\",\n",
    "  Promedio <=6  ~ \"Rinde\",\n",
    "   TRUE~ \"sin registro completo\"))\n",
    "\n",
    "Notas_COLON1$Curso<-as.character(Notas_COLON1$Curso)\n",
    "Notas_COLON1$AñoCursado<-str_sub(Notas_COLON1$Curso,1, 1)\n",
    "\n",
    "bd1 <- Notas_COLON1"
   ]
  },
  {
   "cell_type": "code",
   "execution_count": null,
   "metadata": {
    "vscode": {
     "languageId": "r"
    }
   },
   "outputs": [],
   "source": [
    "# FILTRO VARIABLES PARA ANALISIS\n",
    "bd1 <- select(bd1, CUE, Documento, Asignatura, EsPrivada, Turno, AnoLectivo, Modalidad, ModEnsenanza, NotasPrimerT, NotasSegundoT, NotasTercerT, Promedio, Resultado, AñoCursado)"
   ]
  },
  {
   "cell_type": "code",
   "execution_count": null,
   "metadata": {
    "vscode": {
     "languageId": "r"
    }
   },
   "outputs": [],
   "source": [
    "# REPRESENTATIVIDAD SECUNDARIA\n",
    "\n",
    "options(warn=-1)\n",
    "secbd <- read_excel(\"./data/Secundaria3.xlsx\")"
   ]
  },
  {
   "cell_type": "code",
   "execution_count": null,
   "metadata": {
    "vscode": {
     "languageId": "r"
    }
   },
   "outputs": [],
   "source": [
    "secbd <- filter(secbd, Departamento == \"COLON\")\n",
    "\n",
    "matricula_sec <- c(\n",
    "    sum(na.omit(secbd$Primero)),\n",
    "    sum(na.omit(secbd$Segundo)),\n",
    "    sum(na.omit(secbd$Tercero)),\n",
    "    sum(na.omit(secbd$Cuarto)),\n",
    "    sum(na.omit(secbd$Quinto)),\n",
    "    sum(na.omit(secbd$Sexto)),\n",
    "    sum(na.omit(secbd$Septimo))\n",
    ")\n",
    "\n",
    "matricula_sec"
   ]
  },
  {
   "cell_type": "code",
   "execution_count": null,
   "metadata": {
    "vscode": {
     "languageId": "r"
    }
   },
   "outputs": [],
   "source": [
    "dim(bd1)\n",
    "\n",
    "registros_completos <-filter(bd1, Modalidad==\"Secundaria\" & AñoCursado %in% c(\"1\", \"2\", \"3\", \"4\", \"5\", \"6\", \"7\") & Resultado %in% c(\"Aprobado\", \"Rinde\"))\n",
    "\n",
    "dim(registros_completos)"
   ]
  },
  {
   "cell_type": "code",
   "execution_count": null,
   "metadata": {
    "vscode": {
     "languageId": "r"
    }
   },
   "outputs": [],
   "source": [
    "matr_prim <- registros_completos %>% filter(AñoCursado == \"1\")  %>% select(Documento) %>% unique\n",
    "matr_seg <- registros_completos %>% filter(AñoCursado == \"2\")  %>% select(Documento) %>% unique\n",
    "matr_terc <- registros_completos %>% filter(AñoCursado == \"3\")  %>% select(Documento) %>% unique\n",
    "matr_cuar <- registros_completos %>% filter(AñoCursado == \"4\")  %>% select(Documento) %>% unique\n",
    "matr_quin <- registros_completos %>% filter(AñoCursado == \"5\")  %>% select(Documento) %>% unique\n",
    "matr_sext <- registros_completos %>% filter(AñoCursado == \"6\")  %>% select(Documento) %>% unique\n",
    "matr_sept <- registros_completos %>% filter(AñoCursado == \"7\")  %>% select(Documento) %>% unique\n",
    "\n",
    "matricula_bd <- c(\n",
    "    as.numeric(count(matr_prim)),\n",
    "    as.numeric(count(matr_seg)),\n",
    "    as.numeric(count(matr_terc)),\n",
    "    as.numeric(count(matr_cuar)),\n",
    "    as.numeric(count(matr_quin)),\n",
    "    as.numeric(count(matr_sext)),\n",
    "    as.numeric(count(matr_sept))\n",
    ")\n",
    "\n",
    "matricula_bd\n"
   ]
  },
  {
   "cell_type": "code",
   "execution_count": null,
   "metadata": {
    "vscode": {
     "languageId": "r"
    }
   },
   "outputs": [],
   "source": [
    "matricula <- data.frame(\n",
    "    Secundaria3 = matricula_sec,\n",
    "    COLON3 = matricula_bd\n",
    ")\n",
    "matricula"
   ]
  },
  {
   "cell_type": "code",
   "execution_count": null,
   "metadata": {
    "vscode": {
     "languageId": "r"
    }
   },
   "outputs": [],
   "source": [
    "porc <- function(a, b){\n",
    "    round(((a/b)*100),2)\n",
    "}\n",
    "\n",
    "matricula$representatividad_porc <- porc(matricula_bd, matricula_sec)\n",
    "matricula"
   ]
  },
  {
   "cell_type": "code",
   "execution_count": null,
   "metadata": {
    "vscode": {
     "languageId": "r"
    }
   },
   "outputs": [],
   "source": [
    "min_dat_inferenc <- c(308, 307, 296, 303, 285, 279, 87)\n",
    "\n",
    "matricula$min_dat_inferenc <- min_dat_inferenc\n",
    "\n",
    "matricula"
   ]
  },
  {
   "cell_type": "code",
   "execution_count": null,
   "metadata": {
    "vscode": {
     "languageId": "r"
    }
   },
   "outputs": [],
   "source": [
    "# REPRESENTATIVIDAD PRIMARIA\n",
    "options(warn=-1)\n",
    "primbd <- read_excel('./data/Primaria3.xlsx')"
   ]
  },
  {
   "cell_type": "code",
   "execution_count": null,
   "metadata": {
    "vscode": {
     "languageId": "r"
    }
   },
   "outputs": [],
   "source": [
    "primbd <- filter(primbd, Departamento == 'COLON')\n",
    "\n",
    "matricula_prim <- sum(na.omit(primbd$Matricula))\n",
    "matricula_prim"
   ]
  },
  {
   "cell_type": "code",
   "execution_count": null,
   "metadata": {
    "vscode": {
     "languageId": "r"
    }
   },
   "outputs": [],
   "source": [
    "matricula_bd <- bd1 %>% filter(Modalidad =='Primaria' & AñoCursado %in% c(\"1\", \"2\", \"3\", \"4\", \"5\", \"6\", \"7\") & Resultado %in% c(\"Aprobado\", \"Rinde\")) %>% select(Documento) %>% unique\n",
    "\n",
    "matricula_bd <- count(matricula_bd)"
   ]
  },
  {
   "cell_type": "code",
   "execution_count": null,
   "metadata": {
    "vscode": {
     "languageId": "r"
    }
   },
   "outputs": [],
   "source": [
    "matricula2 <- data.frame(\n",
    "    matricula_prim,\n",
    "    matricula_bd\n",
    ")\n",
    "\n",
    "colnames(matricula2) <- c('Primaria3', 'COLON3')\n",
    "\n",
    "matricula2$representatividad_porc <- porc(\n",
    "    as.numeric(matricula_bd),\n",
    "    as.numeric(matricula_prim)\n",
    ")\n",
    "\n",
    "matricula2$min_dat_inferec <- 368\n",
    "\n",
    "matricula2"
   ]
  },
  {
   "cell_type": "code",
   "execution_count": null,
   "metadata": {
    "vscode": {
     "languageId": "r"
    }
   },
   "outputs": [],
   "source": [
    "registros_completos$CUE %>% unique %>% length"
   ]
  },
  {
   "cell_type": "code",
   "execution_count": null,
   "metadata": {
    "vscode": {
     "languageId": "r"
    }
   },
   "outputs": [],
   "source": [
    "# FILTRO NOTAS COMPLETAS\n",
    "bd1 <-filter(bd1, AñoCursado %in% c(\"1\", \"2\", \"3\", \"4\", \"5\", \"6\", \"7\") & Resultado %in% c(\"Aprobado\", \"Rinde\"))"
   ]
  },
  {
   "cell_type": "code",
   "execution_count": null,
   "metadata": {
    "vscode": {
     "languageId": "r"
    }
   },
   "outputs": [],
   "source": [
    "#tamano dataset final\n",
    "dim(bd1)"
   ]
  },
  {
   "cell_type": "code",
   "execution_count": null,
   "metadata": {
    "vscode": {
     "languageId": "r"
    }
   },
   "outputs": [],
   "source": [
    "# PRIMER CHECKPOINT\n",
    "write.table(bd1, file = \"bd_colon_limpia.txt\")"
   ]
  },
  {
   "cell_type": "code",
   "execution_count": null,
   "metadata": {
    "vscode": {
     "languageId": "r"
    }
   },
   "outputs": [],
   "source": [
    "#TP2\n",
    "\n",
    "bd <- bd1"
   ]
  },
  {
   "cell_type": "code",
   "execution_count": null,
   "metadata": {
    "vscode": {
     "languageId": "r"
    }
   },
   "outputs": [],
   "source": [
    "sec <- bd %>% filter(Modalidad == \"Secundaria\")\n",
    "pri <- bd %>% filter(Modalidad == \"Primaria\")"
   ]
  },
  {
   "cell_type": "code",
   "execution_count": null,
   "metadata": {
    "vscode": {
     "languageId": "r"
    }
   },
   "outputs": [],
   "source": [
    "library(sjmisc)\n",
    "library(moments)\n",
    "library(fdth)\n",
    "library(stats)"
   ]
  },
  {
   "cell_type": "code",
   "execution_count": null,
   "metadata": {
    "vscode": {
     "languageId": "r"
    }
   },
   "outputs": [],
   "source": [
    "# 3/A\n",
    "\n",
    "frq(pri$AñoCursado)\n",
    "frq(sec$AñoCursado)\n",
    "\n",
    "# La distribucion no es similar, para primaria observamos una distribucion homogenea, en secundaria una distribucion sesgda.\n",
    "# Por otra parte la proporcion de datos favorece a secundaria."
   ]
  },
  {
   "cell_type": "code",
   "execution_count": null,
   "metadata": {
    "vscode": {
     "languageId": "r"
    }
   },
   "outputs": [],
   "source": [
    "# 3/B\n",
    "\n",
    "frq(bd$Turno)\n",
    "\n",
    "# Separando primaria de secundaria\n",
    "\n",
    "frq(pri$Turno)\n",
    "frq(sec$Turno)\n",
    "\n",
    "# Tanto en primaria como secundaria se visualiza una mayor concentracion en turno manana seguido por truno tarde\n",
    "# Si se mantiene la tendencia actual en primaria, secundaria deberia reducir su numero de bancos por curso"
   ]
  },
  {
   "cell_type": "code",
   "execution_count": null,
   "metadata": {
    "vscode": {
     "languageId": "r"
    }
   },
   "outputs": [],
   "source": [
    "# 3/C\n",
    "\n",
    "frq(bd$EsPrivada)\n",
    "\n",
    "# separando primaria y secundaria\n",
    "\n",
    "frq(pri$EsPrivada)\n",
    "frq(sec$EsPrivada)\n",
    "\n",
    "# En general se observa mayor concentracion de datos perteneciente al sector publico 88% correspondiente \n",
    "# Segmentando por nivel observamos que la totalidad de datos en primaria pertenecen al sector publico, por otra parte el nivel\n",
    "# secundario presenta un 82% publico y 18% privado"
   ]
  },
  {
   "cell_type": "code",
   "execution_count": null,
   "metadata": {
    "vscode": {
     "languageId": "r"
    }
   },
   "outputs": [],
   "source": [
    "#PREGUNTA 3/d) ¿Cómo es distribuye en su departamento la cantidad de estudiantes por año de cursado? ¿cuál es el\n",
    "#año con mayor matrícula? ¿cuál es el año con menor matrícula?\n",
    "\n",
    "# Frecuencias absolutas.\n",
    "ni <- table(sec$AñoCursado)\n",
    "# Frecuencias relativas\n",
    "fi <- prop.table(ni)\n",
    "# Frecuencias acumuladas.\n",
    "fip <- prop.table(ni)*100\n",
    "# Frecuencias acumuladas.\n",
    "Ni <- cumsum(ni)\n",
    "# Frecuencias relativas acumuladas.\n",
    "Fi <- cumsum(fi)\n",
    "# Creación de un data frame con las frecuencias.\n",
    "tabla_frec <- cbind(ni, fi,fip, Ni, Fi)\n",
    "tabla_frec"
   ]
  },
  {
   "cell_type": "code",
   "execution_count": null,
   "metadata": {
    "vscode": {
     "languageId": "r"
    }
   },
   "outputs": [],
   "source": [
    "#forma alternativa de hacer 3/d)\n",
    "frq(pri$AñoCursado)\n",
    "\n",
    "frq(sec$AñoCursado)\n",
    "\n",
    "# Para el conjunto secundaria\n",
    "# Logramos observar una distribucion concentrada en el ciclo basico (1,2), y menor para el ciclo orientado (4,5,6)\n",
    "# por otra parte son minoria los cursos de 7mo anio ya que pertenecen a escuelas tecnicas. El anio con mayor matricula es 1ro\n",
    "\n",
    "# Por el contrario para el conjunto de primaria observamos una distribucion que tiende a la normal\n",
    "# El anio con mayor matricula es 2do"
   ]
  },
  {
   "cell_type": "code",
   "execution_count": null,
   "metadata": {
    "vscode": {
     "languageId": "r"
    }
   },
   "outputs": [],
   "source": [
    "#hago un recorte\n",
    "S_mat<-filter(sec,Asignatura==\"MATEMATICA\")\n",
    "S1<-filter(S_mat,AñoCursado==\"2\")\n",
    "dim(S1)"
   ]
  },
  {
   "cell_type": "code",
   "execution_count": null,
   "metadata": {
    "vscode": {
     "languageId": "r"
    }
   },
   "outputs": [],
   "source": [
    "table(S_mat$AñoCursado)"
   ]
  },
  {
   "cell_type": "code",
   "execution_count": null,
   "metadata": {
    "vscode": {
     "languageId": "r"
    }
   },
   "outputs": [],
   "source": [
    "#EJERCICIO 4 analisis secundaria 2do año\n",
    "Frec_Prom <- fdt(filter(S1,Asignatura==\"MATEMATICA\")$Promedio ,breaks=\"Sturges\",na.rm=TRUE) # calcula la distribución de frecuencias utilizando la regla Sturge\n",
    "Frec_Prom #nos brinda una tabla con los calculos de la distribución de frecuencias. breaks=c('Sturges', 'Scott', 'FD')"
   ]
  },
  {
   "cell_type": "code",
   "execution_count": null,
   "metadata": {
    "vscode": {
     "languageId": "r"
    }
   },
   "outputs": [],
   "source": [
    "#4/a) ¿En qué rango se encuentran la mayoría de las calificaciones?\n",
    "#en el rango 6.304,7.063 se encuentran las mayoria de las calificaciones\n",
    "#4/b) ¿Qué calificaciones son las más inusuales?\n",
    "#las calificaciones mas inusuales se encuentran en los primeros intervalos, ya que en los primeros 2 intervalos solo hay el 2,7% de los datos ."
   ]
  },
  {
   "cell_type": "code",
   "execution_count": null,
   "metadata": {
    "vscode": {
     "languageId": "r"
    }
   },
   "outputs": [],
   "source": [
    "#4/c) El 70% de los estudiantes obtuvo menos de…?\n",
    "puntaje <- quantile(S1$Promedio, 0.7, type = 1)\n",
    "puntaje"
   ]
  },
  {
   "cell_type": "code",
   "execution_count": null,
   "metadata": {
    "vscode": {
     "languageId": "r"
    }
   },
   "outputs": [],
   "source": [
    "#4/d) ¿Qué porcentaje de estudiantes obtuvo notas menores a 4?\n",
    "n <- sum(S1$Promedio < 4)\n",
    "total <- nrow(S1)\n",
    "porcentaje <- (n / total) * 100\n",
    "cat(porcentaje)"
   ]
  },
  {
   "cell_type": "code",
   "execution_count": null,
   "metadata": {
    "vscode": {
     "languageId": "r"
    }
   },
   "outputs": [],
   "source": [
    "#4/e) ¿Qué porcentaje de estudiantes obtuvo notas menores a 6?\n",
    "n <- sum(S1$Promedio < 6)\n",
    "total <- nrow(S1)\n",
    "porcentaje <- (n / total) * 100\n",
    "cat(porcentaje)"
   ]
  },
  {
   "cell_type": "code",
   "execution_count": null,
   "metadata": {
    "vscode": {
     "languageId": "r"
    }
   },
   "outputs": [],
   "source": [
    "#f) ¿Qué porcentaje de estudiantes aprobó la asignatura, si se considera aprobado si el porcentaje es\n",
    "#mayor a 6? ¿Esto es así en el sistema educativo primario o secundario de Entre Ríos?\n",
    "frq(S1$Resultado)"
   ]
  },
  {
   "cell_type": "code",
   "execution_count": null,
   "metadata": {
    "vscode": {
     "languageId": "r"
    }
   },
   "outputs": [],
   "source": [
    "#g) ¿Qué porcentaje de estudiantes obtuvo notas mayores a 8?\n",
    "n <- sum(S1$Promedio >= 8)\n",
    "total <- nrow(S1)\n",
    "porcentaje <- (n / total) * 100\n",
    "cat(porcentaje)"
   ]
  },
  {
   "cell_type": "code",
   "execution_count": null,
   "metadata": {
    "vscode": {
     "languageId": "r"
    }
   },
   "outputs": [],
   "source": [
    "#EJERCICIO 5 \n",
    "S1_1<-filter(sec,Asignatura==\"MATEMATICA\" & AñoCursado==\"1\") \n",
    "S2<-filter(sec,Asignatura==\"LENGUA Y LITERATURA\" & AñoCursado==\"1\") \n",
    "dim(S2)\n",
    "dim(S1_1)"
   ]
  },
  {
   "cell_type": "code",
   "execution_count": null,
   "metadata": {
    "vscode": {
     "languageId": "r"
    }
   },
   "outputs": [],
   "source": [
    "moda <- function(x) {\n",
    "  ux <- unique(x)\n",
    "  ux[which.max(tabulate(match(x, ux)))]\n",
    "}\n",
    "print(\"media\")\n",
    "mean(S1_1$Promedio)\n",
    "print(\"moda\")\n",
    "moda(S1_1$Promedio)\n",
    "print(\"mediana\")\n",
    "median(S1_1$Promedio)\n",
    "\n",
    "print(\"media\")\n",
    "mean(S2$Promedio)\n",
    "print(\"moda\")\n",
    "moda(S2$Promedio)\n",
    "print(\"mediana\")\n",
    "median(S2$Promedio)"
   ]
  },
  {
   "cell_type": "code",
   "execution_count": null,
   "metadata": {
    "vscode": {
     "languageId": "r"
    }
   },
   "outputs": [],
   "source": [
    "print(\"desvio estandar\")\n",
    "sd(S1_1$Promedio)\n",
    "sd(S2$Promedio)\n",
    "IQR(S1_1$Promedio)\n",
    "IQR(S2$Promedio)\n"
   ]
  },
  {
   "cell_type": "code",
   "execution_count": null,
   "metadata": {
    "vscode": {
     "languageId": "r"
    }
   },
   "outputs": [],
   "source": [
    "boxplot(S1_1$Promedio)\n",
    "boxplot(S2$Promedio)"
   ]
  },
  {
   "cell_type": "code",
   "execution_count": null,
   "metadata": {
    "vscode": {
     "languageId": "r"
    }
   },
   "outputs": [],
   "source": [
    "print(\"matematica\")\n",
    "h <- quantile(S1_1$Promedio, 0.75, type = 1)\n",
    "h\n",
    "i <- quantile(S1_1$Promedio, 0.5, type = 1)\n",
    "i\n",
    "print(\"lengua\")\n",
    "h <- quantile(S2$Promedio, 0.75, type = 1)\n",
    "h\n",
    "i <- quantile(S2$Promedio, 0.5, type = 1)\n",
    "i"
   ]
  },
  {
   "cell_type": "code",
   "execution_count": null,
   "metadata": {
    "vscode": {
     "languageId": "r"
    }
   },
   "outputs": [],
   "source": [
    "#a) ¿Se corresponden los valores de Media y Mediana? ¿Y la Moda?\n",
    "#los tres valores son similares, asi que si se podria decir que se corresponden\n",
    "\n",
    "#b) ¿Cuál es el promedio medio de la muestra seleccionada? ¿La media es representativa de la muestra\n",
    "#o es conveniente elegir otra medida?\n",
    "# la media es 6,2 matematica y 6,8 lengua, es representativa ya que casi no tienen valores extremos \n",
    "# y tiene valores similares con la mediana y moda \n",
    "#c) ¿Qué podría decir de la distribución de esta variable? ¿Está centrada?\n",
    "#\n",
    "\n",
    "#d) ¿Qué puede decir de la dispersión de los datos? \n",
    "# al ver los box plot tienen una dispersion normal, lengua tiene menos dispersion que matematica. la desviacion estandar es \n",
    "# mat:2.06 lengua: 1.39\n",
    "\n",
    "#e) ¿Hay outliers? ¿Son valores atípicos? ¿Son valores extremos?\n",
    "#el boxplot de matematica no presenta valores atipicos/outliers. En cambio el boxplot de lengua tiene 2 outliers\n",
    "\n",
    "#h) ¿El 75% de las notas son menores que...?\n",
    "#i) ¿El 50% de las notas son mayores qué?\n",
    "#[1] \"matematica\"\n",
    "#75%: 8\n",
    "#50%: 6.67\n",
    "#[1] \"lengua\"\n",
    "#75%: 7.67\n",
    "#50%: 6.67\n",
    "\n",
    "\n",
    "#j) Si se comparan los datos de Lengua y Matemática, ¿cuál tiene mayor variabilidad?\n",
    "#matematica al tener una mayor desviacion estandar presenta mas variabilidad\n",
    "\n",
    "#k) ¿Hay alguna otra información que pueda brindar a partir de las medidas de resumen estudiadas?\n",
    "#las dos variables se comportan casi iguales,esto se ve con las medidas de tencia central"
   ]
  },
  {
   "cell_type": "code",
   "execution_count": null,
   "metadata": {
    "vscode": {
     "languageId": "r"
    }
   },
   "outputs": [],
   "source": [
    "# EJ 5 PARA PRIMARIA - ASIGNATURA LENGUA\n",
    "\n",
    "leng_pri <- filter(pri, Asignatura == \"LENGUA\", AñoCursado == \"2\")"
   ]
  },
  {
   "cell_type": "code",
   "execution_count": null,
   "metadata": {
    "vscode": {
     "languageId": "r"
    }
   },
   "outputs": [],
   "source": [
    "moda <- function(x) {\n",
    "  ux <- unique(x)\n",
    "  ux[which.max(tabulate(match(x, ux)))]\n",
    "}\n",
    "\n",
    "mean(leng_pri$Promedio)\n",
    "moda(leng_pri$Promedio)\n",
    "median(leng_pri$Promedio)\n",
    "\n",
    "summary(leng_pri$Promedio)\n",
    "\n",
    "boxplot(leng_pri$Promedio)\n",
    "\n",
    "sd(leng_pri$Promedio)"
   ]
  },
  {
   "cell_type": "code",
   "execution_count": null,
   "metadata": {
    "vscode": {
     "languageId": "r"
    }
   },
   "outputs": [],
   "source": [
    "quantile(leng_pri$Promedio)"
   ]
  },
  {
   "cell_type": "code",
   "execution_count": null,
   "metadata": {
    "vscode": {
     "languageId": "r"
    }
   },
   "outputs": [],
   "source": [
    "leng_pri_2 <- filter(leng_pri, Promedio > 7.33 & Promedio < 9.33)\n",
    "\n",
    "median(leng_pri_2$Promedio)\n",
    "\n",
    "boxplot(leng_pri_2$Promedio)"
   ]
  },
  {
   "cell_type": "code",
   "execution_count": null,
   "metadata": {
    "vscode": {
     "languageId": "r"
    }
   },
   "outputs": [],
   "source": [
    "quantile(leng_pri$Promedio, 0.75, type=1)\n",
    "quantile(leng_pri$Promedio, 0.5, type=1)"
   ]
  },
  {
   "cell_type": "code",
   "execution_count": null,
   "metadata": {
    "vscode": {
     "languageId": "r"
    }
   },
   "outputs": [],
   "source": [
    "# EJ 5 PRIMARIA - ASIGNATURA MATEMATICA\n",
    "\n",
    "mat_pri <- filter(pri, Asignatura == \"MATEMATICA\", AñoCursado == \"2\")"
   ]
  },
  {
   "cell_type": "code",
   "execution_count": null,
   "metadata": {
    "vscode": {
     "languageId": "r"
    }
   },
   "outputs": [],
   "source": [
    "mean(mat_pri$Promedio)\n",
    "moda(mat_pri$Promedio)\n",
    "median(mat_pri$Promedio)\n",
    "\n",
    "summary(mat_pri$Promedio)\n",
    "\n",
    "boxplot(mat_pri$Promedio)\n",
    "\n",
    "sd(mat_pri$Promedio)"
   ]
  },
  {
   "cell_type": "code",
   "execution_count": null,
   "metadata": {
    "vscode": {
     "languageId": "r"
    }
   },
   "outputs": [],
   "source": [
    "quantile(mat_pri$Promedio)"
   ]
  },
  {
   "cell_type": "code",
   "execution_count": null,
   "metadata": {
    "vscode": {
     "languageId": "r"
    }
   },
   "outputs": [],
   "source": [
    "mat_pri_2 <- filter(mat_pri, Promedio > 7.33 & Promedio < 9)\n",
    "\n",
    "median(mat_pri_2$Promedio)\n",
    "\n",
    "boxplot(mat_pri_2$Promedio)"
   ]
  },
  {
   "cell_type": "code",
   "execution_count": null,
   "metadata": {
    "vscode": {
     "languageId": "r"
    }
   },
   "outputs": [],
   "source": [
    "quantile(mat_pri_2$Promedio)"
   ]
  },
  {
   "cell_type": "code",
   "execution_count": null,
   "metadata": {
    "vscode": {
     "languageId": "r"
    }
   },
   "outputs": [],
   "source": [
    "quantile(mat_pri$Promedio, 0.75, type=1)\n",
    "quantile(mat_pri$Promedio, 0.5, type=1)"
   ]
  },
  {
   "cell_type": "code",
   "execution_count": null,
   "metadata": {
    "vscode": {
     "languageId": "r"
    }
   },
   "outputs": [],
   "source": [
    "#a) ¿Se corresponden los valores de Media y Mediana? ¿Y la Moda?\n",
    "#b) ¿Cuál es el promedio medio de la muestra seleccionada? ¿La media es representativa de la muestra\n",
    "#o es conveniente elegir otra medida?\n",
    "#c) ¿Qué podría decir de la distribución de esta variable? ¿Está centrada?\n",
    "#d) ¿Qué puede decir de la dispersión de los datos?\n",
    "#e) ¿Hay outliers? ¿Son valores atípicos? ¿Son valores extremos? \n",
    "#f) ¿A partir de qué valor se considera un promedio outliers? \n",
    "#g) Si se descarta el 25% de los promedios menores y el 25% de los promedios mayores, ¿entre qué valores se  concentran el 50% de los promedios? \n",
    "#h) ¿El 75% de las notas son menores que…? \n",
    "#i) ¿El 50% de las notas son mayores qué? \n",
    "#j) Si se comparan los datos de Lengua y Matemática, ¿cuál tiene mayor variabilidad? \n",
    "#k) ¿Hay alguna otra información que pueda brindar a partir de las medidas de resumen estudiadas? \n",
    "#l) ¿Existen otras variables cuantitativas en las que se deba realizar este mismo análisis para extraer  información útil a la departamental?\n",
    "\n",
    "\n",
    "#LENGUA\n",
    "#a - si, los tres valores rondan en 8 y 9. \n",
    "#b - Es representativa la media, es mas fuerte ante valores extremos\n",
    "#c - La distribucion de la variable no esta centrada\n",
    "#d - El desvio estandar nos indica una dispersion de 1,16 de lo cual deducimos una baja dispersion\n",
    "#e - No se registran outliers o valores atipicos\n",
    "#f - Un valor superior a 10 se consideraria outlier\n",
    "#g - el 50% central se situa entre 8 y 8.67\n",
    "#h - Menores que 9.33\n",
    "#i - Mayores que 8.33\n",
    "\n",
    "#MATEMATICA\n",
    "#a - si, los tres valores rondan en 8 y 9.\n",
    "#b - Es representativa la media\n",
    "#c - La variable es asimetrica hacia la izquierda (sesgo negativo)\n",
    "#d - El desvio estandar nos indica una dispersion de 1,14 de lo cual deducimos una baja dispersion\n",
    "#e - La muestra no presenta outliers\n",
    "#f - Superando el 10 se ocnsidera outlier\n",
    "#g - el 50% central se encunetra entre 8 y 8.33\n",
    "#h - Menores que 9\n",
    "#i - Mayores que 8.33\n",
    "\n",
    "#EN COMUN\n",
    "#j - Tiene ligeramente mayor variabilidad la asignatura LENGUA\n",
    "#k - Con la informacion obtenida podemos observar que los alumnos tuvieron un desempeño similar en ambas materias\n"
   ]
  },
  {
   "cell_type": "code",
   "execution_count": null,
   "metadata": {
    "vscode": {
     "languageId": "r"
    }
   },
   "outputs": [],
   "source": [
    "# TP3"
   ]
  },
  {
   "cell_type": "code",
   "execution_count": null,
   "metadata": {
    "vscode": {
     "languageId": "r"
    }
   },
   "outputs": [],
   "source": [
    "bd <- rename(bd, AnoCursado = AñoCursado)"
   ]
  },
  {
   "cell_type": "code",
   "execution_count": null,
   "metadata": {
    "vscode": {
     "languageId": "r"
    }
   },
   "outputs": [],
   "source": [
    "pri <- filter(bd, Modalidad == \"Primaria\")\n",
    "sec <- filter(bd, Modalidad == \"Secundaria\")"
   ]
  },
  {
   "cell_type": "code",
   "execution_count": null,
   "metadata": {
    "vscode": {
     "languageId": "r"
    }
   },
   "outputs": [],
   "source": [
    "est_niv <- bd %>% select(Documento, Modalidad) %>% unique\n",
    "\n",
    "tabla0 <- table(est_niv$Modalidad)\n",
    "etiquetas <- paste0(round(100 * tabla0/sum(tabla0), 2), \"%\")\n",
    "\n",
    "pie(\n",
    "    tabla0,\n",
    "    col = c(\"lightgrey\", \"steelblue1\"),\n",
    "    main = \"Estudiantes por nivel\",\n",
    "    labels = etiquetas,\n",
    "    explode = 0.27\n",
    ")\n",
    "\n",
    "legend(\"topleft\", legend = c(\"PRIMARIA\", \"SECUNDARIA\"),\n",
    "       fill =  c(\"lightgrey\", \"steelblue1\"))"
   ]
  },
  {
   "cell_type": "code",
   "execution_count": null,
   "metadata": {
    "vscode": {
     "languageId": "r"
    }
   },
   "outputs": [],
   "source": [
    "est_turnos <- bd %>% filter(Turno %in% c(\"MAÑANA\", \"TARDE\")) %>% select(Documento, Turno) %>% unique\n",
    "est_turnos$Turno <- as.character(est_turnos$Turno)\n",
    "tabla0 <- table(est_turnos$Turno)\n",
    "tabla0\n",
    "\n",
    "etiquetas <- paste0(round(100 * tabla0/sum(tabla0), 2), \"%\")\n",
    "\n",
    "pie(tabla0, col = c(\"lightgrey\", \"steelblue1\"), labels = etiquetas, explode = 0.27,\n",
    "   main = \" Estudiantes por turno\")\n",
    "\n",
    "legend(\"topleft\", legend = c(\"MAÑANA\", \"TARDE\"),\n",
    "       fill =  c(\"lightgrey\", \"steelblue1\"))"
   ]
  },
  {
   "cell_type": "code",
   "execution_count": null,
   "metadata": {
    "vscode": {
     "languageId": "r"
    }
   },
   "outputs": [],
   "source": [
    "est_turno_pri <- bd %>% filter(Modalidad == \"Primaria\" & Turno %in% c(\"MAÑANA\", \"TARDE\")) %>% select(Documento, Turno) %>% unique\n",
    "est_turno_pri$Turno <- as.character(est_turno_pri$Turno)\n",
    "\n",
    "tabla1 <- table(est_turno_pri$Turno)\n",
    "tabla1\n",
    "\n",
    "etiquetas <- paste0(round(100 * tabla1/sum(tabla1), 2), \"%\")\n",
    "\n",
    "pie(tabla1, col = c(\"lightgrey\", \"steelblue1\"), labels = etiquetas, explode = 0.27)\n",
    "\n",
    "legend(\"topleft\", legend = c(\"MAÑANA\", \"TARDE\"),\n",
    "       fill =  c(\"lightgrey\", \"steelblue1\"))\n",
    "\n",
    "title(main = \"Primaria según turno\")"
   ]
  },
  {
   "cell_type": "code",
   "execution_count": null,
   "metadata": {
    "vscode": {
     "languageId": "r"
    }
   },
   "outputs": [],
   "source": [
    "est_turno_sec <- bd %>% filter(Modalidad == \"Secundaria\" & Turno %in% c(\"MAÑANA\", \"TARDE\")) %>% select(Documento, Turno) %>% unique\n",
    "est_turno_sec$Turno <- as.character(est_turno_sec$Turno)\n",
    "\n",
    "tabla2 <- table(est_turno_sec$Turno)\n",
    "tabla2\n",
    "\n",
    "etiquetas <- paste0(round(100 * tabla2/sum(tabla2), 2), \"%\")\n",
    "\n",
    "pie(tabla2, col = c(\"lightgrey\", \"steelblue1\"), labels = etiquetas, explode = 0.27)\n",
    "\n",
    "legend(\"topleft\", legend = c(\"MAÑANA\", \"TARDE\"),\n",
    "       fill =  c(\"lightgrey\", \"steelblue1\"))\n",
    "\n",
    "title(main = \"Secundaria según turno\")"
   ]
  },
  {
   "cell_type": "code",
   "execution_count": null,
   "metadata": {
    "vscode": {
     "languageId": "r"
    }
   },
   "outputs": [],
   "source": [
    "est_sector <- bd %>% select(Documento, EsPrivada) %>% unique\n",
    "\n",
    "tabla3 <-table(est_sector$EsPrivada)\n",
    "tabla3\n",
    "etiquetas <- paste0(round(100 * tabla3/sum(tabla3), 2), \"%\")\n",
    "\n",
    "pie(tabla3, col = c(\"lightgrey\", \"steelblue1\"), labels = etiquetas, explode = 0.27)\n",
    "\n",
    "legend(\"topleft\", legend = c(\"PÚBLICO\", \"PRIVADO\"),\n",
    "       fill =  c(\"lightgrey\", \"steelblue1\"))\n",
    "\n",
    "title(main = \"Estudiantes por sector\")"
   ]
  },
  {
   "cell_type": "code",
   "execution_count": null,
   "metadata": {
    "vscode": {
     "languageId": "r"
    }
   },
   "outputs": [],
   "source": [
    "est_sector_pri <- bd %>% filter(Modalidad == \"Primaria\") %>% select(Documento, EsPrivada) %>% unique\n",
    "\n",
    "tabla4 <-table(est_sector_pri$EsPrivada)\n",
    "tabla4\n",
    "etiquetas <- paste0(round(100 * tabla4/sum(tabla4), 2), \"%\")\n",
    "\n",
    "pie(tabla4, col = c(\"lightgrey\", \"steelblue1\"), labels = etiquetas, explode = 0.27,\n",
    "    main = \"Proporcion sector publico/privado en primaria\")\n",
    "\n",
    "legend(\"topleft\", legend = c(\"Publico\", \"Privado\"),\n",
    "       fill =  c(\"lightgrey\", \"steelblue1\"))"
   ]
  },
  {
   "cell_type": "code",
   "execution_count": null,
   "metadata": {
    "vscode": {
     "languageId": "r"
    }
   },
   "outputs": [],
   "source": [
    "est_sector_sec <- bd %>% filter(Modalidad == \"Secundaria\") %>% select(Documento, EsPrivada) %>% unique\n",
    "\n",
    "tabla5 <-table(est_sector_sec$EsPrivada)\n",
    "tabla5\n",
    "etiquetas <- paste0(round(100 * tabla5/sum(tabla5), 2), \"%\")\n",
    "\n",
    "pie(tabla5, col = c(\"lightgrey\", \"steelblue1\"), labels = etiquetas, explode = 0.27, \n",
    "    main = \"Proporcion sector publico/privado en secundaria\"\n",
    ")\n",
    "\n",
    "legend(\"topleft\", legend = c(\"Publico\", \"Privado\"),\n",
    "       fill =  c(\"lightgrey\", \"steelblue1\")\n",
    ")"
   ]
  },
  {
   "cell_type": "code",
   "execution_count": null,
   "metadata": {
    "vscode": {
     "languageId": "r"
    }
   },
   "outputs": [],
   "source": [
    "est_anio <- bd %>% select(Documento, AnoCursado) %>% unique\n",
    "\n",
    "barplot(table(est_anio$AnoCursado), ylim = c(0, 2500), col = \"steelblue1\", \n",
    "        border = \"white\", xlab = \"Año\",\n",
    "        ylab = \"Estudiantes\", names = c(\"1ro\", \"2do\", \"3ro\", \"4to\", \"5to\", \"6to\",\"7mo\"), \n",
    "        main = \"Estudiantes por curso\")"
   ]
  },
  {
   "cell_type": "code",
   "execution_count": null,
   "metadata": {
    "vscode": {
     "languageId": "r"
    }
   },
   "outputs": [],
   "source": [
    "est_anio_pri <- pri %>% select(Documento, AnoCursado) %>% unique\n",
    "\n",
    "barplot(table(est_anio_pri$AnoCursado), ylim = c(0, 1000), col = \"steelblue1\", \n",
    "        border = \"white\", xlab = \"Año\",\n",
    "        ylab = \"Estudiantes\", names = c(\"1ro\", \"2do\", \"3ro\", \"4to\", \"5to\", \"6to\"), \n",
    "        main = \"Estudiantes por curso en primaria\"\n",
    ")"
   ]
  },
  {
   "cell_type": "code",
   "execution_count": null,
   "metadata": {
    "vscode": {
     "languageId": "r"
    }
   },
   "outputs": [],
   "source": [
    "est_anio_sec <- sec %>% select(Documento, AnoCursado) %>% unique\n",
    "\n",
    "barplot(table(est_anio_sec$AnoCursado), ylim = c(0, 1500), col = \"steelblue1\", \n",
    "        border = \"white\", xlab = \"Año\",\n",
    "        ylab = \"Estudiantes\", names = c(\"1ro\", \"2do\", \"3ro\", \"4to\", \"5to\", \"6to\",\"7mo\"), \n",
    "        main = \"Estudiantes por curso en secundaria\")"
   ]
  },
  {
   "cell_type": "code",
   "execution_count": null,
   "metadata": {
    "vscode": {
     "languageId": "r"
    }
   },
   "outputs": [],
   "source": [
    "# EJ 2\n",
    "\n",
    "sec_mate <- sec %>% filter(Asignatura == \"MATEMATICA\" & AnoCursado == \"1\")\n",
    "\n",
    "boxplot(sec_mate$Promedio, \n",
    "        main = \"MATEMATICA\", \n",
    "        xlab = \"promedio\", \n",
    "        ylab = \"materia\",\n",
    "        col = \"lightblue\")"
   ]
  },
  {
   "cell_type": "code",
   "execution_count": null,
   "metadata": {
    "vscode": {
     "languageId": "r"
    }
   },
   "outputs": [],
   "source": [
    "sec_leng <- sec %>% filter(Asignatura == \"LENGUA Y LITERATURA\" & AnoCursado == \"1\")\n",
    "\n",
    "boxplot(sec_leng$Promedio, \n",
    "        main = \"LENGUA\", \n",
    "        xlab = \"promedio\", \n",
    "        ylab = \"materia\",\n",
    "        col = \"green\",\n",
    "        border = \"black\")"
   ]
  },
  {
   "cell_type": "code",
   "execution_count": null,
   "metadata": {
    "vscode": {
     "languageId": "r"
    }
   },
   "outputs": [],
   "source": [
    "quantile(sec_leng$Promedio)\n",
    "quantile(sec_mate$Promedio)"
   ]
  },
  {
   "cell_type": "code",
   "execution_count": null,
   "metadata": {
    "vscode": {
     "languageId": "r"
    }
   },
   "outputs": [],
   "source": [
    "qqnorm(sec_leng$Promedio)\n",
    "qqline(sec_leng$Promedio)"
   ]
  },
  {
   "cell_type": "code",
   "execution_count": null,
   "metadata": {
    "vscode": {
     "languageId": "r"
    }
   },
   "outputs": [],
   "source": [
    "qqnorm(sec_mate$Promedio)\n",
    "qqline(sec_mate$Promedio)"
   ]
  },
  {
   "cell_type": "code",
   "execution_count": null,
   "metadata": {
    "vscode": {
     "languageId": "r"
    }
   },
   "outputs": [],
   "source": [
    "sd(sec_leng$Promedio)\n",
    "sd(sec_mate$Promedio)"
   ]
  },
  {
   "cell_type": "code",
   "execution_count": null,
   "metadata": {
    "vscode": {
     "languageId": "r"
    }
   },
   "outputs": [],
   "source": [
    "#PRIMER AÑO\n",
    "# a) Rango de variación de los datos (Mínimo –Máximo).\n",
    "# b) ¿La distribución es simétrica? Si es asimétrica, ¿la asimetría es a derecha o a\n",
    "# izquierda? ¿Qué quiere decir eso?\n",
    "#PREGUNTARLE\n",
    "# c) ¿En torno a qué valor están aproximadamente centrados los datos? ¿Es la media\n",
    "# representativa? \n",
    "# d) ¿Cuán dispersos en torno a este centro están los datos? ¿Hay datos atípicos en\n",
    "# relación a la mayoría de los datos?\n",
    "# e) ¿Entre qué valores se encuentran el 50% de los datos?\n",
    "# f) ¿Qué notas obtuvo el 25% superior de la caja?\n",
    "# g) ¿El 75% de las notas son menores que...?\n",
    "# h) ¿El 50% de las notas son mayores qué?\n",
    "# i) Observando los resultados, ¿considera que el rendimiento en la asignatura fue\n",
    "# óptimo?\n",
    "# j) Si se comparan los datos de Lengua y Matemática, ¿cuál tiene mayor\n",
    "# variabilidad?\n",
    "# k) Realice un gráfico de distribucion Q-Q plot. ¿Puede deducir si la distribución de\n",
    "# la variable es normal?\n",
    "\n",
    "# l) Relaciones esta información con el punto 4 de la guía 2\n",
    "\n",
    "#a)el rango de variacion para ambos es de 1 a 10\n",
    "#b)la asimetria tanto de lengua como matematica son hacia la derecha,  significa que la distribución de los datos tiene \n",
    "#una cola que se extiende hacia valores más bajos que la mediana. Esto sugiere que hay una concentración de valores más altos.\n",
    "#c) los datos estan centrados en 7(matematica) y 6.67(lengua).\n",
    "#d)matematica tiene un desvio estandar de 1.6 y lengua 1.4, tambien las cajas del box plot tienen una forma cuadrada y un poco achatadas. \n",
    "#por eso considero que los datos tienen una dispersion normal\n",
    "# matematica tiene 1 y en lengua se encuentran 2 valores atipicos en los datos mas bajos.\n",
    "#e) entre 5,3 y 7,6 matematica, entre 6 y 8 lengua\n",
    "#f/g)(mismo valor para las 2 consignas) 8 lengua y 7.6 matematica\n",
    "#h) lengua 6 y matematica 6.67\n",
    "#i) considerando que el primer quartil en la materia  lengua da 6, por ende como minimo el 75% de los alumnos aprobaron la \n",
    "#materia, si considero que el rendimiento fue optimo esa materia. En matematica no sucede lo mismo ya que para empezar\n",
    "#el bigote inferior llega a valores mas bajos que el de lengua, tambien la mediana es menor, de igual forma la mediana sigue \n",
    "#estando por arriba de 6 por lo que se puede saber existen mas aprobados que desaprobados.\n",
    "#j) matematica\n",
    "#k) al aplicar lillie.test sobre las materias, su p valor da muy bajo, no tiene una distribucion normal.\n",
    "#l) al comparar los datos con la guia anterior, se pueden comparar los rendimientos de primer y segundo año de secundaria \n",
    "#se pueden observar al ver por un lado la tabla de  frecuencias  y por el otro el box plot \n",
    "#como presentan una distribucion parecida al tener  una menor cantidad notas en los rangos mas bajos y la mayor cantidad de datos por \n",
    "#encima de 6 teniendo una asimetria negativa."
   ]
  },
  {
   "cell_type": "code",
   "execution_count": null,
   "metadata": {
    "vscode": {
     "languageId": "r"
    }
   },
   "outputs": [],
   "source": [
    "#EJ 3 - SECUNDARIA\n",
    "\n",
    "x <- as.numeric(filter(sec, Asignatura == \"LENGUA Y LITERATURA\" & AnoCursado == \"1\")$Promedio)\n",
    "\n",
    "hist(x, col=\"lightgrey\",border=\"white\",breaks = \"Sturges\", ylim = c(0, 300),\n",
    "     xlab=\"notas\", ylab=\"frecuencia absoluta\", main=\"Promedios lengua 1ro\")\n",
    "mean_x <- mean(x,na.rm=TRUE)     \n",
    "med_x <- median(x,na.rm=TRUE)   \n",
    "abline(v = mean_x, col = 'blue')\n",
    "abline(v = med_x, col = 'red')\n",
    "\n",
    "legend(\"topright\", legend = c(\"media\", \"mediana\"),\n",
    "       fill =  c(\"blue\", \"red\"))"
   ]
  },
  {
   "cell_type": "code",
   "execution_count": null,
   "metadata": {
    "vscode": {
     "languageId": "r"
    }
   },
   "outputs": [],
   "source": [
    "x <- as.numeric(filter(sec, Asignatura == \"MATEMATICA\" & AnoCursado == \"1\")$Promedio)\n",
    "\n",
    "hist(x, col=\"lightgrey\",border=\"white\",breaks = \"Sturges\", ylim = c(0, 250),\n",
    "     xlab=\"notas\", ylab=\"frecuencia absoluta\", main=\"Promedios matematica 1ro\")\n",
    "mean_x <- mean(x,na.rm=TRUE)     \n",
    "med_x <- median(x,na.rm=TRUE)   \n",
    "abline(v = mean_x, col = 'blue')\n",
    "abline(v = med_x, col = 'red')\n",
    "\n",
    "legend(\"topright\", legend = c(\"media\", \"mediana\"),\n",
    "       fill =  c(\"blue\", \"red\"))"
   ]
  },
  {
   "cell_type": "code",
   "execution_count": null,
   "metadata": {
    "vscode": {
     "languageId": "r"
    }
   },
   "outputs": [],
   "source": [
    "#1ro\n",
    "\n",
    "#a) ¿Cuáles son las notas más frecuentes? ¿Y las menos frecuentes?\n",
    "#b) ¿La distribución es unimodal o hay más de una moda?\n",
    "#c) ¿La distribución es simétrica, uniforme, asimétrica?\n",
    "#d) Si es asimétrica, ¿la asimetría es a derecha o a izquierda? ¿Qué quiere decir eso?\n",
    "#e) ¿En torno a qué intervalo están centrados los datos? ¿Es la media representativa?\n",
    "#f) ¿Cuán dispersos en torno a este centro están los datos? ¿Hay datos atípicos en relación a la mayoría de los datos?\n",
    "\n",
    "#a. matematicas + frec 6 y 7, - frec 1 y 2. lengua + frec 5 y 6, - frec 1 y 2\n",
    "#b. unimodal\n",
    "#c. asimetrica\n",
    "#d. POSITIVA ambas \n",
    "#e. matematica: centrados entrono al intervalo mas frecuente (6 y 7). lengua: entorno a 6 y 7\n",
    "#f. existe una dispersion significativa, no se visualizan atipicos."
   ]
  },
  {
   "cell_type": "code",
   "execution_count": null,
   "metadata": {
    "vscode": {
     "languageId": "r"
    }
   },
   "outputs": [],
   "source": [
    "# ej4\n",
    "\n",
    "#2do\n",
    "x <- as.numeric(filter(sec, Asignatura == \"MATEMATICA\" & AnoCursado == \"2\")$Promedio)\n",
    "\n",
    "hist(x, col=\"lightgrey\",border=\"white\",breaks = \"Sturges\", ylim = c(0, 200),\n",
    "     xlab=\"notas\", ylab=\"frecuencia absoluta\", main=\"Promedios matematica 2do\")\n",
    "mean_x <- mean(x,na.rm=TRUE)     \n",
    "med_x <- median(x,na.rm=TRUE)   \n",
    "abline(v = mean_x, col = 'blue')\n",
    "abline(v = med_x, col = 'red')\n",
    "\n",
    "legend(\"topright\", legend = c(\"media\", \"mediana\"),\n",
    "       fill =  c(\"blue\", \"red\"))"
   ]
  },
  {
   "cell_type": "code",
   "execution_count": null,
   "metadata": {
    "vscode": {
     "languageId": "r"
    }
   },
   "outputs": [],
   "source": [
    "x <- as.numeric(filter(sec, Asignatura == \"LENGUA Y LITERATURA\" & AnoCursado == \"2\")$Promedio)\n",
    "\n",
    "hist(x, col=\"lightgrey\",border=\"white\",breaks = \"Sturges\",\n",
    "     xlab=\"notas\", ylab=\"frecuencia absoluta\", main=\"lengua 6to anio\")\n",
    "mean_x <- mean(x,na.rm=TRUE)     \n",
    "med_x <- median(x,na.rm=TRUE)   \n",
    "abline(v = mean_x, col = 'blue')\n",
    "abline(v = med_x, col = 'red')\n",
    "\n",
    "legend(\"topright\", legend = c(\"media\", \"mediana\"),\n",
    "       fill =  c(\"blue\", \"red\"))"
   ]
  },
  {
   "cell_type": "code",
   "execution_count": null,
   "metadata": {
    "vscode": {
     "languageId": "r"
    }
   },
   "outputs": [],
   "source": [
    "#2do\n",
    "\n",
    "#a) ¿Cuáles son las notas más frecuentes? ¿Y las menos frecuentes?\n",
    "#b) ¿La distribución es unimodal o hay más de una moda?\n",
    "#c) ¿La distribución es simétrica, uniforme, asimétrica?\n",
    "#d) Si es asimétrica, ¿la asimetría es a derecha o a izquierda? ¿Qué quiere decir eso?\n",
    "#e) ¿En torno a qué intervalo están centrados los datos? ¿Es la media representativa?\n",
    "#f) ¿Cuán dispersos en torno a este centro están los datos? ¿Hay datos atípicos en relación a la mayoría de los datos?\n",
    "\n",
    "#a. notas mas frecuentes en matematica son el intervalo 4-5 y 6-7, menos frec 1-2. lengua mas frec intervalo 5-6, menos frec 2-3\n",
    "#b. matematicas bimodal( intervalo 4-5 y 6-7), lengua unimodal\n",
    "#c. asimetrica ambas\n",
    "#d. todos los histogramas presentan una asimetria negativa ,  se puede decir que la mayoría de los datos se concentran en notas\n",
    "#más altas, y que hay algunas notas  muy bajos que estiran la cola hacia la izquierda.\n",
    "#e. matematica: centrados entorno al intervalo  6-7. lengua: entorno 6-7 tambien .Al existir una asimetria la media \n",
    "#no es representativa. la mediana es una medida de centralidad representativa de los promedios \n"
   ]
  },
  {
   "cell_type": "code",
   "execution_count": null,
   "metadata": {
    "vscode": {
     "languageId": "r"
    }
   },
   "outputs": [],
   "source": [
    "# 3ero\n",
    "\n",
    "x <- as.numeric(filter(sec, Asignatura == \"MATEMATICA\" & AnoCursado == \"3\")$Promedio)\n",
    "\n",
    "hist(x, col=\"lightgrey\",border=\"white\",breaks = 8, ylim = c(0, 200),\n",
    "     xlab=\"notas\", ylab=\"frecuencia absoluta\", main=\"Promedios matematica 3ro\")\n",
    "mean_x <- mean(x,na.rm=TRUE)     \n",
    "med_x <- median(x,na.rm=TRUE)   \n",
    "abline(v = mean_x, col = 'blue')\n",
    "abline(v = med_x, col = 'red')\n",
    "\n",
    "legend(\"topright\", legend = c(\"media\", \"mediana\"),\n",
    "       fill =  c(\"blue\", \"red\"))"
   ]
  },
  {
   "cell_type": "code",
   "execution_count": null,
   "metadata": {
    "vscode": {
     "languageId": "r"
    }
   },
   "outputs": [],
   "source": [
    "x <- as.numeric(filter(sec, Asignatura == \"LENGUA Y LITERATURA\" & AnoCursado == \"3\")$Promedio)\n",
    "\n",
    "hist(x, col=\"lightgrey\",border=\"white\",breaks = \"Sturges\",\n",
    "     xlab=\"notas\", ylab=\"frecuencia absoluta\", main=\"Promedios lengua 3ro\")\n",
    "mean_x <- mean(x,na.rm=TRUE)     \n",
    "med_x <- median(x,na.rm=TRUE)   \n",
    "abline(v = mean_x, col = 'blue')\n",
    "abline(v = med_x, col = 'red')\n",
    "\n",
    "legend(\"topright\", legend = c(\"media\", \"mediana\"),\n",
    "       fill =  c(\"blue\", \"red\"))"
   ]
  },
  {
   "cell_type": "code",
   "execution_count": null,
   "metadata": {
    "vscode": {
     "languageId": "r"
    }
   },
   "outputs": [],
   "source": [
    "#3ro\n",
    "\n",
    "#a) ¿Cuáles son las notas más frecuentes? ¿Y las menos frecuentes?\n",
    "#b) ¿La distribución es unimodal o hay más de una moda?\n",
    "#c) ¿La distribución es simétrica, uniforme, asimétrica?\n",
    "#d) Si es asimétrica, ¿la asimetría es a derecha o a izquierda? ¿Qué quiere decir eso?\n",
    "#e) ¿En torno a qué intervalo están centrados los datos? ¿Es la media representativa?\n",
    "#f) ¿Cuán dispersos en torno a este centro están los datos? ¿Hay datos atípicos en relación a la mayoría de los datos?\n",
    "\n",
    "#a. notas mas frecuentes en matematica intervalo 5-6, menos frec 1-2. lengua mas frec intervalo 5-6 y 7-8, menos frec 2-3\n",
    "#b. lengua bimodal(intervalo 5-6 y 7-8), matematica unimodal\n",
    "#c. asimetrica ambas\n",
    "#d. simetrica la media y la moda valen lo mismo\n",
    "#e. matematica y lengua estan centrados entorno al intervalo 6-7. Al existir una asimetria la media \n",
    "#no es representativa. la mediana si es una medida de centralidad representativa de los promedios \n"
   ]
  },
  {
   "cell_type": "code",
   "execution_count": null,
   "metadata": {
    "vscode": {
     "languageId": "r"
    }
   },
   "outputs": [],
   "source": [
    "#4to\n",
    "\n",
    "x <- as.numeric(filter(sec, Asignatura == \"MATEMATICA\" & AnoCursado == \"4\")$Promedio)\n",
    "\n",
    "hist(x, col=\"lightgrey\",border=\"white\",breaks = 8, ylim = c(0, 150),\n",
    "     xlab=\"notas\", ylab=\"frecuencia absoluta\", main=\"Promedios matematica 4to\")\n",
    "mean_x <- mean(x,na.rm=TRUE)     \n",
    "med_x <- median(x,na.rm=TRUE)   \n",
    "abline(v = mean_x, col = 'blue')\n",
    "abline(v = med_x, col = 'red')\n",
    "\n",
    "legend(\"topright\", legend = c(\"media\", \"mediana\"),\n",
    "       fill =  c(\"blue\", \"red\"))"
   ]
  },
  {
   "cell_type": "code",
   "execution_count": null,
   "metadata": {
    "vscode": {
     "languageId": "r"
    }
   },
   "outputs": [],
   "source": [
    "x <- as.numeric(filter(sec, Asignatura == \"LENGUA Y LITERATURA\" & AnoCursado == \"4\")$Promedio)\n",
    "\n",
    "hist(x, col=\"lightgrey\",border=\"white\",breaks = \"Sturges\",\n",
    "     xlab=\"notas\", ylab=\"frecuencia absoluta\", main=\"Promedios lengua 4to\")\n",
    "mean_x <- mean(x,na.rm=TRUE)     \n",
    "med_x <- median(x,na.rm=TRUE)   \n",
    "abline(v = mean_x, col = 'blue')\n",
    "abline(v = med_x, col = 'red')\n",
    "\n",
    "legend(\"topright\", legend = c(\"media\", \"mediana\"),\n",
    "       fill =  c(\"blue\", \"red\"))"
   ]
  },
  {
   "cell_type": "code",
   "execution_count": null,
   "metadata": {
    "vscode": {
     "languageId": "r"
    }
   },
   "outputs": [],
   "source": [
    "#4to\n",
    "\n",
    "#a) ¿Cuáles son las notas más frecuentes? ¿Y las menos frecuentes?\n",
    "#b) ¿La distribución es unimodal o hay más de una moda?\n",
    "#c) ¿La distribución es simétrica, uniforme, asimétrica?\n",
    "#d) Si es asimétrica, ¿la asimetría es a derecha o a izquierda? ¿Qué quiere decir eso?\n",
    "#e) ¿En torno a qué intervalo están centrados los datos? ¿Es la media representativa?\n",
    "#f) ¿Cuán dispersos en torno a este centro están los datos? ¿Hay datos atípicos en relación a la mayoría de los datos?\n",
    "\n",
    "#a. Notas mas frecuentes en matematica intervalo 5-6, menos frec 1-2. Lengua mas frec 5-6, menos frec 1-2\n",
    "#b. Tanto Lengua como matematica unimodal\n",
    "#c. Asimetrica ambas\n",
    "#d. Todos los histogramas presentan una asimetria negativa ,  se puede decir que la mayoría de los datos se concentran en notas\n",
    "#más altas, y que hay algunas notas  muy bajos que estiran la cola hacia la izquierda.\n",
    "#e. Matematica y lengua estan centrados entorno al intervalo 6-7. Al existir una asimetria la media \n",
    "#no es representativa. la mediana si es una medida de centralidad representativa de los promedios "
   ]
  },
  {
   "cell_type": "code",
   "execution_count": null,
   "metadata": {
    "vscode": {
     "languageId": "r"
    }
   },
   "outputs": [],
   "source": [
    "#5to\n",
    "\n",
    "x <- as.numeric(filter(sec, Asignatura == \"MATEMATICA\" & AnoCursado == \"5\")$Promedio)\n",
    "\n",
    "hist(x, col=\"lightgrey\",border=\"white\",breaks = 8, ylim = c(0, 150),\n",
    "     xlab=\"notas\", ylab=\"frecuencia absoluta\", main=\"Promedios matematica 5to\")\n",
    "mean_x <- mean(x,na.rm=TRUE)     \n",
    "med_x <- median(x,na.rm=TRUE)   \n",
    "abline(v = mean_x, col = 'blue')\n",
    "abline(v = med_x, col = 'red')\n",
    "\n",
    "legend(\"topright\", legend = c(\"media\", \"mediana\"),\n",
    "       fill =  c(\"blue\", \"red\"))"
   ]
  },
  {
   "cell_type": "code",
   "execution_count": null,
   "metadata": {
    "vscode": {
     "languageId": "r"
    }
   },
   "outputs": [],
   "source": [
    "x <- as.numeric(filter(sec, Asignatura == \"LENGUA Y LITERATURA\" & AnoCursado == \"5\")$Promedio)\n",
    "\n",
    "hist(x, col=\"lightgrey\",border=\"white\",breaks = 8, ylim = c(0, 50),\n",
    "     xlab=\"notas\", ylab=\"frecuencia absoluta\", main=\"Promedios lengua 5to\")\n",
    "mean_x <- mean(x,na.rm=TRUE)     \n",
    "med_x <- median(x,na.rm=TRUE)   \n",
    "abline(v = mean_x, col = 'blue')\n",
    "abline(v = med_x, col = 'red')\n",
    "\n",
    "legend(\"topright\", legend = c(\"media\", \"mediana\"),\n",
    "       fill =  c(\"blue\", \"red\"))"
   ]
  },
  {
   "cell_type": "code",
   "execution_count": null,
   "metadata": {
    "vscode": {
     "languageId": "r"
    }
   },
   "outputs": [],
   "source": [
    "#5to\n",
    "\n",
    "#a) ¿Cuáles son las notas más frecuentes? ¿Y las menos frecuentes?\n",
    "#b) ¿La distribución es unimodal o hay más de una moda?\n",
    "#c) ¿La distribución es simétrica, uniforme, asimétrica?\n",
    "#d) Si es asimétrica, ¿la asimetría es a derecha o a izquierda? ¿Qué quiere decir eso?\n",
    "#e) ¿En torno a qué intervalo están centrados los datos? ¿Es la media representativa?\n",
    "#f) ¿Cuán dispersos en torno a este centro están los datos? ¿Hay datos atípicos en relación a la mayoría de los datos?\n",
    "\n",
    "#a. Notas mas frecuentes en matematica 6-7, menos frec 2-3. Lengua mas frec 6-7, menos frec 3-4\n",
    "#b. Tanto Lengua como matematica unimodal\n",
    "#c. Asimetrica ambas\n",
    "#d. Todos los histogramas presentan una asimetria negativa ,  se puede decir que la mayoría de los datos se concentran en notas\n",
    "#más altas, y que hay algunas notas  muy bajos que estiran la cola hacia la izquierda.\n",
    "#e. Matematica esta centrado entorno al intervalo  6-7 Y lengua a 7-8. Al existir una asimetria la media \n",
    "#no es representativa. la mediana si es una medida de centralidad representativa de los promedios "
   ]
  },
  {
   "cell_type": "code",
   "execution_count": null,
   "metadata": {
    "vscode": {
     "languageId": "r"
    }
   },
   "outputs": [],
   "source": [
    "# EJ 3 - PRIMARIA\n",
    "\n",
    "#1ro\n",
    "x <- as.numeric(filter(pri, Asignatura == \"MATEMATICA\" & AnoCursado == \"1\")$Promedio)\n",
    "\n",
    "hist(x, col=\"lightgrey\",border=\"white\",breaks = \"Sturges\",\n",
    "     xlab=\"notas\", ylab=\"frecuencia absoluta\", main=\"matematica 1ro - primaria\")\n",
    "mean_x <- mean(x,na.rm=TRUE)     \n",
    "med_x <- median(x,na.rm=TRUE)   \n",
    "abline(v = mean_x, col = 'blue')\n",
    "abline(v = med_x, col = 'red')\n",
    "\n",
    "legend(\"topright\", legend = c(\"media\", \"mediana\"),\n",
    "       fill =  c(\"blue\", \"red\"))"
   ]
  },
  {
   "cell_type": "code",
   "execution_count": null,
   "metadata": {
    "vscode": {
     "languageId": "r"
    }
   },
   "outputs": [],
   "source": [
    "#a) ¿Cuáles son las notas más frecuentes? ¿Y las menos frecuentes?\n",
    "#b) ¿La distribución es unimodal o hay más de una moda?\n",
    "#c) ¿La distribución es simétrica, uniforme, asimétrica?\n",
    "#d) Si es asimétrica, ¿la asimetría es a derecha o a izquierda? ¿Qué quiere decir eso?\n",
    "#e) ¿En torno a qué intervalo están centrados los datos? ¿Es la media representativa?\n",
    "#f) ¿Cuán dispersos en torno a este centro están los datos? ¿Hay datos atípicos en relación a la mayoría de los datos?\n",
    "\n",
    "#a- notas mas frecuentes entorno a 8 y menos frecuentes entorno a 5.\n",
    "#b- distribucion unimodal\n",
    "#c- asimetrica\n",
    "#d- ligera asimetria negativa\n",
    "#e- los datos estan centrados entorno a 7,5 y 8. Podria ser representativa La media. Si bien no se corresponden con la mediana,\n",
    "#   pero aun asi toman valores del mismo intervalo\n",
    "#f- dispersion baja con un coeficiente de variacion de 13%. no hay valores atipicos"
   ]
  },
  {
   "cell_type": "code",
   "execution_count": null,
   "metadata": {
    "vscode": {
     "languageId": "r"
    }
   },
   "outputs": [],
   "source": [
    "x <- as.numeric(filter(pri, Asignatura == \"LENGUA\" & AnoCursado == \"1\")$Promedio)\n",
    "\n",
    "hist(x, col=\"lightgrey\",border=\"white\",breaks = \"Sturges\",\n",
    "     xlab=\"notas\", ylab=\"frecuencia absoluta\", main=\"lengua 1ro - primaria\")\n",
    "mean_x <- mean(x,na.rm=TRUE)     \n",
    "med_x <- median(x,na.rm=TRUE)   \n",
    "abline(v = mean_x, col = 'blue')\n",
    "abline(v = med_x, col = 'red')\n",
    "\n",
    "legend(\"topright\", legend = c(\"media\", \"mediana\"),\n",
    "       fill =  c(\"blue\", \"red\"))"
   ]
  },
  {
   "cell_type": "code",
   "execution_count": null,
   "metadata": {
    "vscode": {
     "languageId": "r"
    }
   },
   "outputs": [],
   "source": [
    "#a) ¿Cuáles son las notas más frecuentes? ¿Y las menos frecuentes?\n",
    "#b) ¿La distribución es unimodal o hay más de una moda?\n",
    "#c) ¿La distribución es simétrica, uniforme, asimétrica?\n",
    "#d) Si es asimétrica, ¿la asimetría es a derecha o a izquierda? ¿Qué quiere decir eso?\n",
    "#e) ¿En torno a qué intervalo están centrados los datos? ¿Es la media representativa?\n",
    "#f) ¿Cuán dispersos en torno a este centro están los datos? ¿Hay datos atípicos en relación a la mayoría de los datos?\n",
    "\n",
    "#a- notas mas frecuentes entorno a 7.5 y 8 y menos frecuente entorno a 5 \n",
    "#b- distribucion unimodal\n",
    "#c- distribucion asimetrica\n",
    "#d- asimetria negativa\n",
    "#e- los datos estan centrados entorno a 7,5 y 8. Podria ser representativa La media. Si bien no se corresponden con la mediana,\n",
    "#   pero aun asi toman valores del mismo intervalo\n",
    "#f- dispersion baja con un coeficiente de variacion de 13%. no hay valores atipicos\n"
   ]
  },
  {
   "cell_type": "code",
   "execution_count": null,
   "metadata": {
    "vscode": {
     "languageId": "r"
    }
   },
   "outputs": [],
   "source": [
    "#2do\n",
    "x <- as.numeric(filter(pri, Asignatura == \"MATEMATICA\" & AnoCursado == \"2\")$Promedio)\n",
    "\n",
    "hist(x, col=\"lightgrey\",border=\"white\",breaks = \"Sturges\",\n",
    "     xlab=\"notas\", ylab=\"frecuencia absoluta\", main=\"matematica 2do - primaria\")\n",
    "mean_x <- mean(x,na.rm=TRUE)     \n",
    "med_x <- median(x,na.rm=TRUE)   \n",
    "abline(v = mean_x, col = 'blue')\n",
    "abline(v = med_x, col = 'red')\n",
    "\n",
    "legend(\"topright\", legend = c(\"media\", \"mediana\"),\n",
    "       fill =  c(\"blue\", \"red\"))"
   ]
  },
  {
   "cell_type": "code",
   "execution_count": null,
   "metadata": {
    "vscode": {
     "languageId": "r"
    }
   },
   "outputs": [],
   "source": [
    "#a) ¿Cuáles son las notas más frecuentes? ¿Y las menos frecuentes?\n",
    "#b) ¿La distribución es unimodal o hay más de una moda?\n",
    "#c) ¿La distribución es simétrica, uniforme, asimétrica?\n",
    "#d) Si es asimétrica, ¿la asimetría es a derecha o a izquierda? ¿Qué quiere decir eso?\n",
    "#e) ¿En torno a qué intervalo están centrados los datos? ¿Es la media representativa?\n",
    "#f) ¿Cuán dispersos en torno a este centro están los datos? ¿Hay datos atípicos en relación a la mayoría de los datos?\n",
    "\n",
    "#a- notas mas frecuentes entorno a 8.5 y 9. menos frecuentes entorno a 5\n",
    "#b- distribucion unimodal\n",
    "#c- distribucion asimetrica\n",
    "#d- asimetria negativa\n",
    "#e- los datos se centran entorno al intervalo entre 8 y 8.5 Podria ser representativa La media. Si bien no se corresponden con la mediana,\n",
    "#   pero aun asi toman valores del mismo intervalo\n",
    "#f- dispersion baja con un coeficiente de variacion de 14%. no hay valores atipicos"
   ]
  },
  {
   "cell_type": "code",
   "execution_count": null,
   "metadata": {
    "vscode": {
     "languageId": "r"
    }
   },
   "outputs": [],
   "source": [
    "x <- as.numeric(filter(pri, Asignatura == \"LENGUA\" & AnoCursado == \"2\")$Promedio)\n",
    "\n",
    "hist(x, col=\"lightgrey\",border=\"white\",breaks = \"Sturges\",\n",
    "     xlab=\"notas\", ylab=\"frecuencia absoluta\", main=\"lengua 2do - primaria\")\n",
    "mean_x <- mean(x,na.rm=TRUE)     \n",
    "med_x <- median(x,na.rm=TRUE)   \n",
    "abline(v = mean_x, col = 'blue')\n",
    "abline(v = med_x, col = 'red')\n",
    "\n",
    "legend(\"topright\", legend = c(\"media\", \"mediana\"),\n",
    "       fill =  c(\"blue\", \"red\"))"
   ]
  },
  {
   "cell_type": "code",
   "execution_count": null,
   "metadata": {
    "vscode": {
     "languageId": "r"
    }
   },
   "outputs": [],
   "source": [
    "#a) ¿Cuáles son las notas más frecuentes? ¿Y las menos frecuentes?\n",
    "#b) ¿La distribución es unimodal o hay más de una moda?\n",
    "#c) ¿La distribución es simétrica, uniforme, asimétrica?\n",
    "#d) Si es asimétrica, ¿la asimetría es a derecha o a izquierda? ¿Qué quiere decir eso?\n",
    "#e) ¿En torno a qué intervalo están centrados los datos? ¿Es la media representativa?\n",
    "#f) ¿Cuán dispersos en torno a este centro están los datos? ¿Hay datos atípicos en relación a la mayoría de los datos?\n",
    "\n",
    "#a- notas mas frecuentes entorno a 8.5 y 9. menos frecuentes entorno a 5\n",
    "#b- distribucion unimodal\n",
    "#c- distribucion asimetrica\n",
    "#d- asimetria negativa\n",
    "#e- los datos se centran entorno al intervalo entre 8 y 8.5. Podria ser representativa La media. Si bien no se corresponden con la mediana,\n",
    "#   pero aun asi toman valores del mismo intervalo\n",
    "#f- dispersion baja con un coeficiente de variacion de 14%. no hay valores atipicos"
   ]
  },
  {
   "cell_type": "code",
   "execution_count": null,
   "metadata": {
    "vscode": {
     "languageId": "r"
    }
   },
   "outputs": [],
   "source": [
    "#3ro\n",
    "x <- as.numeric(filter(pri, Asignatura == \"MATEMATICA\" & AnoCursado == \"3\")$Promedio)\n",
    "\n",
    "hist(x, col=\"lightgrey\",border=\"white\",breaks = \"Sturges\",\n",
    "     xlab=\"notas\", ylab=\"frecuencia absoluta\", main=\"matematica 3ro - primaria\")\n",
    "mean_x <- mean(x,na.rm=TRUE)     \n",
    "med_x <- median(x,na.rm=TRUE)   \n",
    "abline(v = mean_x, col = 'blue')\n",
    "abline(v = med_x, col = 'red')\n",
    "\n",
    "legend(\"topright\", legend = c(\"media\", \"mediana\"),\n",
    "       fill =  c(\"blue\", \"red\"))"
   ]
  },
  {
   "cell_type": "code",
   "execution_count": null,
   "metadata": {
    "vscode": {
     "languageId": "r"
    }
   },
   "outputs": [],
   "source": [
    "#a) ¿Cuáles son las notas más frecuentes? ¿Y las menos frecuentes?\n",
    "#b) ¿La distribución es unimodal o hay más de una moda?\n",
    "#c) ¿La distribución es simétrica, uniforme, asimétrica?\n",
    "#d) Si es asimétrica, ¿la asimetría es a derecha o a izquierda? ¿Qué quiere decir eso?\n",
    "#e) ¿En torno a qué intervalo están centrados los datos? ¿Es la media representativa?\n",
    "#f) ¿Cuán dispersos en torno a este centro están los datos? ¿Hay datos atípicos en relación a la mayoría de los datos?\n",
    "\n",
    "#a- notas mas frecuentes entorno a 8.5 y 9. menos frecuentes entorno a 9.5 y 10\n",
    "#b- distribucion unimodal\n",
    "#c- distribucion asimetrica\n",
    "#d- asimetria negativa\n",
    "#e- los datos se centran entorno al intervalo entre 7.5 y 8 la media es representativa\n",
    "#f- dispersion baja con un coeficiente de variacion de 13%. no hay valores atipicos"
   ]
  },
  {
   "cell_type": "code",
   "execution_count": null,
   "metadata": {
    "vscode": {
     "languageId": "r"
    }
   },
   "outputs": [],
   "source": [
    "x <- as.numeric(filter(pri, Asignatura == \"LENGUA\" & AnoCursado == \"3\")$Promedio)\n",
    "\n",
    "hist(x, col=\"lightgrey\",border=\"white\",breaks = \"Sturges\",\n",
    "     xlab=\"notas\", ylab=\"frecuencia absoluta\", main=\"lengua 3ro - primaria\")\n",
    "mean_x <- mean(x,na.rm=TRUE)     \n",
    "med_x <- median(x,na.rm=TRUE)   \n",
    "abline(v = mean_x, col = 'blue')\n",
    "abline(v = med_x, col = 'red')\n",
    "\n",
    "legend(\"topright\", legend = c(\"media\", \"mediana\"),\n",
    "       fill =  c(\"blue\", \"red\"))"
   ]
  },
  {
   "cell_type": "code",
   "execution_count": null,
   "metadata": {
    "vscode": {
     "languageId": "r"
    }
   },
   "outputs": [],
   "source": [
    "#a) ¿Cuáles son las notas más frecuentes? ¿Y las menos frecuentes?\n",
    "#b) ¿La distribución es unimodal o hay más de una moda?\n",
    "#c) ¿La distribución es simétrica, uniforme, asimétrica?\n",
    "#d) Si es asimétrica, ¿la asimetría es a derecha o a izquierda? ¿Qué quiere decir eso?\n",
    "#e) ¿En torno a qué intervalo están centrados los datos? ¿Es la media representativa?\n",
    "#f) ¿Cuán dispersos en torno a este centro están los datos? ¿Hay datos atípicos en relación a la mayoría de los datos?\n",
    "\n",
    "#a- notas mas frecuentes entorno a 8.5 y 9. menos frecuentes entorno a 9.5 y 10\n",
    "#b- distribucion unimodal\n",
    "#c- distribucion asimetrica\n",
    "#d- asimetria negativa\n",
    "#e- los datos se centran entorno al intervalo entre 7.5 y 8 la media es representativa\n",
    "#f- dispersion baja con un coeficiente de variacion de 13%. no hay valores atipicos"
   ]
  },
  {
   "cell_type": "code",
   "execution_count": null,
   "metadata": {
    "vscode": {
     "languageId": "r"
    }
   },
   "outputs": [],
   "source": [
    "#4to\n",
    "x <- as.numeric(filter(pri, Asignatura == \"MATEMATICA\" & AnoCursado == \"4\")$Promedio)\n",
    "\n",
    "hist(x, col=\"lightgrey\",border=\"white\",breaks = \"Sturges\",\n",
    "     xlab=\"notas\", ylab=\"frecuencia absoluta\", main=\"matematica 4to - primaria\")\n",
    "mean_x <- mean(x,na.rm=TRUE)     \n",
    "med_x <- median(x,na.rm=TRUE)   \n",
    "abline(v = mean_x, col = 'blue')\n",
    "abline(v = med_x, col = 'red')\n",
    "\n",
    "legend(\"topright\", legend = c(\"media\", \"mediana\"),\n",
    "       fill =  c(\"blue\", \"red\"))"
   ]
  },
  {
   "cell_type": "code",
   "execution_count": null,
   "metadata": {
    "vscode": {
     "languageId": "r"
    }
   },
   "outputs": [],
   "source": [
    "#a) ¿Cuáles son las notas más frecuentes? ¿Y las menos frecuentes?\n",
    "#b) ¿La distribución es unimodal o hay más de una moda?\n",
    "#c) ¿La distribución es simétrica, uniforme, asimétrica?\n",
    "#d) Si es asimétrica, ¿la asimetría es a derecha o a izquierda? ¿Qué quiere decir eso?\n",
    "#e) ¿En torno a qué intervalo están centrados los datos? ¿Es la media representativa?\n",
    "#f) ¿Cuán dispersos en torno a este centro están los datos? ¿Hay datos atípicos en relación a la mayoría de los datos?\n",
    "\n",
    "#a- notas mas frecuentes entorno a 7.5 y 8. menos frecuentes entorno a 6.5 y 7\n",
    "#b- distribucion unimodal\n",
    "#c- distribucion asimetrica\n",
    "#d- asimetria negativa\n",
    "#e- los datos se centran entorno al intervalo entre 7.5 y 8 la media es representativa\n",
    "#f- dispersion baja con un coeficiente de variacion de 13.5%. no hay valores atipicos"
   ]
  },
  {
   "cell_type": "code",
   "execution_count": null,
   "metadata": {
    "vscode": {
     "languageId": "r"
    }
   },
   "outputs": [],
   "source": [
    "x <- as.numeric(filter(pri, Asignatura == \"LENGUA\" & AnoCursado == \"4\")$Promedio)\n",
    "\n",
    "hist(x, col=\"lightgrey\",border=\"white\",breaks = \"Sturges\",\n",
    "     xlab=\"notas\", ylab=\"frecuencia absoluta\", main=\"lengua 4to - primaria\")\n",
    "mean_x <- mean(x,na.rm=TRUE)     \n",
    "med_x <- median(x,na.rm=TRUE)   \n",
    "abline(v = mean_x, col = 'blue')\n",
    "abline(v = med_x, col = 'red')\n",
    "\n",
    "legend(\"topright\", legend = c(\"media\", \"mediana\"),\n",
    "       fill =  c(\"blue\", \"red\"))"
   ]
  },
  {
   "cell_type": "code",
   "execution_count": null,
   "metadata": {
    "vscode": {
     "languageId": "r"
    }
   },
   "outputs": [],
   "source": [
    "#a) ¿Cuáles son las notas más frecuentes? ¿Y las menos frecuentes?\n",
    "#b) ¿La distribución es unimodal o hay más de una moda?\n",
    "#c) ¿La distribución es simétrica, uniforme, asimétrica?\n",
    "#d) Si es asimétrica, ¿la asimetría es a derecha o a izquierda? ¿Qué quiere decir eso?\n",
    "#e) ¿En torno a qué intervalo están centrados los datos? ¿Es la media representativa?\n",
    "#f) ¿Cuán dispersos en torno a este centro están los datos? ¿Hay datos atípicos en relación a la mayoría de los datos?\n",
    "\n",
    "#a- notas mas frecuentes entorno a 7.5 y 8. menos frecuentes entorno a 9.5 y 10\n",
    "#b- distribucion unimodal\n",
    "#c- distribucion simetrica\n",
    "#e- los datos se centran entorno al intervalo entre 7.5 y 8 la media es representativa\n",
    "#f- dispersion baja con un coeficiente de variacion de 13.2%. no hay valores atipicos"
   ]
  },
  {
   "cell_type": "code",
   "execution_count": null,
   "metadata": {
    "vscode": {
     "languageId": "r"
    }
   },
   "outputs": [],
   "source": [
    "#5to\n",
    "x <- as.numeric(filter(pri, Asignatura == \"MATEMATICA\" & AnoCursado == \"5\")$Promedio)\n",
    "\n",
    "hist(x, col=\"lightgrey\",border=\"white\",breaks = \"Sturges\",\n",
    "     xlab=\"notas\", ylab=\"frecuencia absoluta\", main=\"matematica 5to - primaria\")\n",
    "mean_x <- mean(x,na.rm=TRUE)     \n",
    "med_x <- median(x,na.rm=TRUE)   \n",
    "abline(v = mean_x, col = 'blue')\n",
    "abline(v = med_x, col = 'red')\n",
    "\n",
    "legend(\"topright\", legend = c(\"media\", \"mediana\"),\n",
    "       fill =  c(\"blue\", \"red\"))"
   ]
  },
  {
   "cell_type": "code",
   "execution_count": null,
   "metadata": {
    "vscode": {
     "languageId": "r"
    }
   },
   "outputs": [],
   "source": [
    "#a) ¿Cuáles son las notas más frecuentes? ¿Y las menos frecuentes?\n",
    "#b) ¿La distribución es unimodal o hay más de una moda?\n",
    "#c) ¿La distribución es simétrica, uniforme, asimétrica?\n",
    "#d) Si es asimétrica, ¿la asimetría es a derecha o a izquierda? ¿Qué quiere decir eso?\n",
    "#e) ¿En torno a qué intervalo están centrados los datos? ¿Es la media representativa?\n",
    "#f) ¿Cuán dispersos en torno a este centro están los datos? ¿Hay datos atípicos en relación a la mayoría de los datos?\n",
    "\n",
    "#a- notas mas frecuentes entorno a 7.5 y 8. menos frecuentes entorno a 6.5 y 7\n",
    "#b- distribucion unimodal\n",
    "#c- distribucion asimetrica\n",
    "#d- distribucion presenta asimetria negativa\n",
    "#e- los datos se centran entorno al intervalo entre 7.5 y 8 la media es representativa\n",
    "#f- dispersion baja con un coeficiente de variacion de 14.5%. no hay valores atipicos"
   ]
  },
  {
   "cell_type": "code",
   "execution_count": null,
   "metadata": {
    "vscode": {
     "languageId": "r"
    }
   },
   "outputs": [],
   "source": [
    "x <- as.numeric(filter(pri, Asignatura == \"LENGUA\" & AnoCursado == \"5\")$Promedio)\n",
    "\n",
    "hist(x, col=\"lightgrey\",border=\"white\",breaks = \"Sturges\",\n",
    "     xlab=\"notas\", ylab=\"frecuencia absoluta\", main=\"lengua 5to - primaria\")\n",
    "mean_x <- mean(x,na.rm=TRUE)     \n",
    "med_x <- median(x,na.rm=TRUE)   \n",
    "abline(v = mean_x, col = 'blue')\n",
    "abline(v = med_x, col = 'red')\n",
    "\n",
    "legend(\"topright\", legend = c(\"media\", \"mediana\"),\n",
    "       fill =  c(\"blue\", \"red\"))"
   ]
  },
  {
   "cell_type": "code",
   "execution_count": null,
   "metadata": {
    "vscode": {
     "languageId": "r"
    }
   },
   "outputs": [],
   "source": [
    "#a) ¿Cuáles son las notas más frecuentes? ¿Y las menos frecuentes?\n",
    "#b) ¿La distribución es unimodal o hay más de una moda?\n",
    "#c) ¿La distribución es simétrica, uniforme, asimétrica?\n",
    "#d) Si es asimétrica, ¿la asimetría es a derecha o a izquierda? ¿Qué quiere decir eso?\n",
    "#e) ¿En torno a qué intervalo están centrados los datos? ¿Es la media representativa?\n",
    "#f) ¿Cuán dispersos en torno a este centro están los datos? ¿Hay datos atípicos en relación a la mayoría de los datos?\n",
    "\n",
    "#a- notas mas frecuentes entorno a 7.5 y 8. menos frecuentes entorno a 6 y 6.5\n",
    "#b- distribucion unimodal\n",
    "#c- distribucion asimetrica\n",
    "#d- distribucion presenta asimetria positiva\n",
    "#e- los datos se centran entorno al intervalo entre 7.5 y 8 la media es representativa\n",
    "#f- dispersion baja con un coeficiente de variacion de 14.1%. no hay valores atipicos"
   ]
  },
  {
   "cell_type": "code",
   "execution_count": null,
   "metadata": {
    "vscode": {
     "languageId": "r"
    }
   },
   "outputs": [],
   "source": [
    "#6to\n",
    "x <- as.numeric(filter(pri, Asignatura == \"MATEMATICA\" & AnoCursado == \"6\")$Promedio)\n",
    "\n",
    "hist(x, col=\"lightgrey\",border=\"white\",breaks = \"Sturges\",\n",
    "     xlab=\"notas\", ylab=\"frecuencia absoluta\", main=\"matematica 6to - primaria\")\n",
    "mean_x <- mean(x,na.rm=TRUE)     \n",
    "med_x <- median(x,na.rm=TRUE)   \n",
    "abline(v = mean_x, col = 'blue')\n",
    "abline(v = med_x, col = 'red')\n",
    "\n",
    "legend(\"topright\", legend = c(\"media\", \"mediana\"),\n",
    "       fill =  c(\"blue\", \"red\"))"
   ]
  },
  {
   "cell_type": "code",
   "execution_count": null,
   "metadata": {
    "vscode": {
     "languageId": "r"
    }
   },
   "outputs": [],
   "source": [
    "#a) ¿Cuáles son las notas más frecuentes? ¿Y las menos frecuentes?\n",
    "#b) ¿La distribución es unimodal o hay más de una moda?\n",
    "#c) ¿La distribución es simétrica, uniforme, asimétrica?\n",
    "#d) Si es asimétrica, ¿la asimetría es a derecha o a izquierda? ¿Qué quiere decir eso?\n",
    "#e) ¿En torno a qué intervalo están centrados los datos? ¿Es la media representativa?\n",
    "#f) ¿Cuán dispersos en torno a este centro están los datos? ¿Hay datos atípicos en relación a la mayoría de los datos?\n",
    "\n",
    "#a- notas mas frecuentes entorno a 6.5 y 7. menos frecuentes entorno a 5 y 5.5\n",
    "#b- distribucion bimodal\n",
    "#c- distribucion asimetrica\n",
    "#d- distribucion presenta asimetria positiva\n",
    "#e- los datos se centran entorno al intervalo entre 7.5 y 8 la media es representativa\n",
    "#f- dispersion baja con un coeficiente de variacion de 14.6%. no hay valores atipicos"
   ]
  },
  {
   "cell_type": "code",
   "execution_count": null,
   "metadata": {
    "vscode": {
     "languageId": "r"
    }
   },
   "outputs": [],
   "source": [
    "x <- as.numeric(filter(pri, Asignatura == \"LENGUA\" & AnoCursado == \"6\")$Promedio)\n",
    "\n",
    "hist(x, col=\"lightgrey\",border=\"white\",breaks = \"Sturges\",\n",
    "     xlab=\"notas\", ylab=\"frecuencia absoluta\", main=\"lengua 6to - primaria\")\n",
    "mean_x <- mean(x,na.rm=TRUE)     \n",
    "med_x <- median(x,na.rm=TRUE)   \n",
    "abline(v = mean_x, col = 'blue')\n",
    "abline(v = med_x, col = 'red')\n",
    "\n",
    "legend(\"topright\", legend = c(\"media\", \"mediana\"),\n",
    "       fill =  c(\"blue\", \"red\"))"
   ]
  },
  {
   "cell_type": "code",
   "execution_count": null,
   "metadata": {
    "vscode": {
     "languageId": "r"
    }
   },
   "outputs": [],
   "source": [
    "#a) ¿Cuáles son las notas más frecuentes? ¿Y las menos frecuentes?\n",
    "#b) ¿La distribución es unimodal o hay más de una moda?\n",
    "#c) ¿La distribución es simétrica, uniforme, asimétrica?\n",
    "#d) Si es asimétrica, ¿la asimetría es a derecha o a izquierda? ¿Qué quiere decir eso?\n",
    "#e) ¿En torno a qué intervalo están centrados los datos? ¿Es la media representativa?\n",
    "#f) ¿Cuán dispersos en torno a este centro están los datos? ¿Hay datos atípicos en relación a la mayoría de los datos?\n",
    "\n",
    "#a- notas mas frecuentes entorno a 7.5 y 8. menos frecuentes entorno a 5 y 5.5\n",
    "#b- distribucion bimodal\n",
    "#c- distribucion asimetrica\n",
    "#d- distribucion presenta asimetria positiva\n",
    "#e- los datos se centran entorno al intervalo entre 7.5 y 8 la media es representativa\n",
    "#f- dispersion baja con un coeficiente de variacion de 14.7%. no hay valores atipicos"
   ]
  },
  {
   "cell_type": "code",
   "execution_count": null,
   "metadata": {
    "vscode": {
     "languageId": "r"
    }
   },
   "outputs": [],
   "source": [
    "datos <- filter(bd, Modalidad == \"Secundaria\" & Asignatura == \"MATEMATICA\", AnoCursado < 7)\n",
    "\n",
    "mode <- function(x) {\n",
    "   return(as.numeric(names(which.max(table(x)))))\n",
    "}\n",
    "\n",
    "datos <- rename(datos, año = AnoCursado)\n",
    "datos  %>% \n",
    "group_by(año)  %>%\n",
    "    summarise(media = round(mean(Promedio, na.rm = TRUE), digits = 2),\n",
    "              mediana = round(median(Promedio, na.rm = TRUE), digits = 2),\n",
    "              moda = round(mode(Promedio), digits = 2),\n",
    "             desvio_est = round(sd(Promedio, na.rm = TRUE), digits= 2))"
   ]
  },
  {
   "cell_type": "code",
   "execution_count": null,
   "metadata": {
    "vscode": {
     "languageId": "r"
    }
   },
   "outputs": [],
   "source": [
    "datos <- filter(bd, Modalidad == \"Secundaria\" & Asignatura == \"LENGUA Y LITERATURA\", AnoCursado < 7)\n",
    "\n",
    "mode <- function(x) {\n",
    "   return(as.numeric(names(which.max(table(x)))))\n",
    "}\n",
    "\n",
    "datos <- rename(datos, año = AnoCursado)\n",
    "datos  %>% \n",
    "group_by(año)  %>%\n",
    "    summarise(media = round(mean(Promedio, na.rm = TRUE), digits = 2),\n",
    "              mediana = round(median(Promedio, na.rm = TRUE), digits = 2),\n",
    "              moda = round(mode(Promedio), digits = 2),\n",
    "             desvio_est = round(sd(Promedio, na.rm = TRUE), digits= 2))"
   ]
  },
  {
   "cell_type": "code",
   "execution_count": null,
   "metadata": {
    "vscode": {
     "languageId": "r"
    }
   },
   "outputs": [],
   "source": [
    "datos <- filter(bd, Modalidad == \"Primaria\" & Asignatura == \"MATEMATICA\", AnoCursado < 7)\n",
    "table(datos$AnoCursado)\n",
    "\n",
    "datos <- rename(datos, año = AnoCursado)\n",
    "datos  %>% \n",
    "group_by(año)  %>%\n",
    "    summarise(media = round(mean(Promedio, na.rm = TRUE), digits = 2),\n",
    "             desvio_est = round(sd(Promedio, na.rm = TRUE), digits= 2))"
   ]
  },
  {
   "cell_type": "code",
   "execution_count": null,
   "metadata": {
    "vscode": {
     "languageId": "r"
    }
   },
   "outputs": [],
   "source": [
    "datos <- filter(bd, Modalidad == \"Primaria\" & Asignatura == \"LENGUA\", AnoCursado < 7)\n",
    "table(datos$AnoCursado)\n",
    "\n",
    "datos <- rename(datos, año = AnoCursado)\n",
    "datos  %>% \n",
    "group_by(año)  %>%\n",
    "    summarise(media = round(mean(Promedio, na.rm = TRUE), digits = 2),\n",
    "             desvio_est = round(sd(Promedio, na.rm = TRUE), digits= 2))"
   ]
  },
  {
   "cell_type": "code",
   "execution_count": null,
   "metadata": {
    "vscode": {
     "languageId": "r"
    }
   },
   "outputs": [],
   "source": [
    "# TP4"
   ]
  },
  {
   "cell_type": "code",
   "execution_count": null,
   "metadata": {
    "vscode": {
     "languageId": "r"
    }
   },
   "outputs": [],
   "source": [
    "#EJ 4\n",
    "\n",
    "\n",
    "#SECUNDARIA PRIMER AÑO\n",
    "x <- as.numeric(filter(sec, Asignatura == \"MATEMATICA\" & AnoCursado == \"1\")$Promedio)\n",
    "y <- as.numeric(filter(sec, Asignatura == \"LENGUA Y LITERATURA\" & AnoCursado == \"1\")$Promedio)\n",
    "\n",
    "hist(\n",
    "    x,\n",
    "    freq = FALSE,\n",
    "    col = \"grey\",\n",
    "    border = \"#ffffff51\",\n",
    "    breaks = c(1:10),\n",
    "    ylim = c(0, 0.30),\n",
    "    main = \"SECUNDARIA PRIMER AÑO\",\n",
    "    xlab = \"nota\"\n",
    ")\n",
    "\n",
    "legend(\"topright\", legend = c(\"Matemática\", \"Media\", \"Lengua y Literatura\", \"Media\"),\n",
    "       fill =  c(\"lightgrey\", \"red\", \"steelblue1\", \"black\"),\n",
    "       cex = 0.8\n",
    ")\n",
    "\n",
    "hist(\n",
    "    y,\n",
    "    freq = FALSE,\n",
    "    col = \"#5caceea9\",\n",
    "    border = \"#ffffff51\",\n",
    "    breaks = c(1:10),\n",
    "    add = TRUE\n",
    ")\n",
    "\n",
    "mean_x <- mean(x,na.rm=TRUE)     \n",
    "#med_x <- median(x,na.rm=TRUE)   \n",
    "mean_y <- mean(y,na.rm=TRUE)     \n",
    "#med_y <- median(y,na.rm=TRUE)   \n",
    "abline(v = mean_x, col = 'red')\n",
    "#abline(v = med_x, col = 'red')\n",
    "abline(v = mean_y, col = 'black')\n",
    "#abline(v = med_y, col = 'green')\n",
    "\n",
    "x <- filter(sec, AnoCursado == \"1\" & Asignatura %in% c(\"MATEMATICA\", \"LENGUA Y LITERATURA\"))$Promedio\n",
    "y <- as.character(filter(sec, AnoCursado == \"1\" & Asignatura %in% c(\"MATEMATICA\", \"LENGUA Y LITERATURA\"))$Asignatura)\n",
    "\n",
    "boxplot(x ~ y, col = rainbow(15), las = 2, ylab=\"notas\", xlab=\"\",cex.axis = 0.7, cex.names= 0.75, main=\"SECUNDARIA PRIMER AÑO\", las = 1)"
   ]
  },
  {
   "cell_type": "code",
   "execution_count": null,
   "metadata": {
    "vscode": {
     "languageId": "r"
    }
   },
   "outputs": [],
   "source": [
    "#SECUNDARIA SEGUNDO AÑO\n",
    "x <- as.numeric(filter(sec, Asignatura == \"MATEMATICA\" & AnoCursado == \"2\")$Promedio)\n",
    "y <- as.numeric(filter(sec, Asignatura == \"LENGUA Y LITERATURA\" & AnoCursado == \"2\")$Promedio)\n",
    "\n",
    "hist(\n",
    "    x,\n",
    "    freq = FALSE,\n",
    "    col = \"grey\",\n",
    "    border = \"#ffffff51\",\n",
    "    breaks = c(1:10),\n",
    "    ylim = c(0, 0.25),\n",
    "    main = \"SECUNDARIA SEGUNDO AÑO\",\n",
    "    xlab = \"nota\"\n",
    ")\n",
    "\n",
    "legend(\"topright\", legend = c(\"Matemática\", \"Media\", \"Lengua y Literatura\", \"Media\"),\n",
    "       fill =  c(\"lightgrey\", \"red\", \"steelblue1\", \"black\"),\n",
    "       cex = 0.8\n",
    ")\n",
    "\n",
    "hist(\n",
    "    y,\n",
    "    freq = FALSE,\n",
    "    col = \"#5caceea9\",\n",
    "    border = \"#ffffff51\",\n",
    "    breaks = c(1:10),\n",
    "    add = TRUE\n",
    ")\n",
    "\n",
    "mean_x <- mean(x,na.rm=TRUE)     \n",
    "#med_x <- median(x,na.rm=TRUE)   \n",
    "mean_y <- mean(y,na.rm=TRUE)     \n",
    "#med_y <- median(y,na.rm=TRUE)   \n",
    "abline(v = mean_x, col = 'red')\n",
    "#abline(v = med_x, col = 'red')\n",
    "abline(v = mean_y, col = 'black')\n",
    "#abline(v = med_y, col = 'black')\n",
    "\n",
    "x <- filter(sec, AnoCursado == \"2\" & Asignatura %in% c(\"MATEMATICA\", \"LENGUA Y LITERATURA\"))$Promedio\n",
    "y <- as.character(filter(sec, AnoCursado == \"2\" & Asignatura %in% c(\"MATEMATICA\", \"LENGUA Y LITERATURA\"))$Asignatura)\n",
    "\n",
    "boxplot(x ~ y, col = rainbow(15), las = 2, ylab=\"notas\", xlab=\"\",cex.axis = 0.8, cex.names= 0.75, main=\"SECUNDARIA SEGUNDO AÑO\")"
   ]
  },
  {
   "cell_type": "code",
   "execution_count": null,
   "metadata": {
    "vscode": {
     "languageId": "r"
    }
   },
   "outputs": [],
   "source": [
    "#SECUNDARIA TERCER AÑO\n",
    "x <- as.numeric(filter(sec, Asignatura == \"MATEMATICA\" & AnoCursado == \"3\")$Promedio)\n",
    "y <- as.numeric(filter(sec, Asignatura == \"LENGUA Y LITERATURA\" & AnoCursado == \"3\")$Promedio)\n",
    "\n",
    "hist(\n",
    "    x,\n",
    "    freq = FALSE,\n",
    "    col = \"grey\",\n",
    "    border = \"#ffffff51\",\n",
    "    breaks = c(1:10),\n",
    "    ylim = c(0, 0.25),\n",
    "    main = \"SECUNDARIA TERCER AÑO\",\n",
    "    xlab = \"nota\"\n",
    ")\n",
    "\n",
    "legend(\"topright\", legend = c(\"Matemática\", \"Media\", \"Lengua y Literatura\", \"Media\"),\n",
    "       fill =  c(\"lightgrey\", \"red\", \"steelblue1\", \"black\"),\n",
    "       cex = 0.8\n",
    ")\n",
    "\n",
    "hist(\n",
    "    y,\n",
    "    freq = FALSE,\n",
    "    col = \"#5caceea9\",\n",
    "    border = \"#ffffff51\",\n",
    "    breaks = c(1:10),\n",
    "    add = TRUE\n",
    ")\n",
    "\n",
    "mean_x <- mean(x,na.rm=TRUE)     \n",
    "#med_x <- median(x,na.rm=TRUE)   \n",
    "mean_y <- mean(y,na.rm=TRUE)     \n",
    "#med_y <- median(y,na.rm=TRUE)   \n",
    "abline(v = mean_x, col = 'red')\n",
    "#abline(v = med_x, col = 'red')\n",
    "abline(v = mean_y, col = 'black')\n",
    "#abline(v = med_y, col = 'green')\n",
    "\n",
    "x <- filter(sec, AnoCursado == \"3\" & Asignatura %in% c(\"MATEMATICA\", \"LENGUA Y LITERATURA\"))$Promedio\n",
    "y <- as.character(filter(sec, AnoCursado == \"3\" & Asignatura %in% c(\"MATEMATICA\", \"LENGUA Y LITERATURA\"))$Asignatura)\n",
    "\n",
    "boxplot(x ~ y, col = rainbow(15), las = 2, ylab=\"notas\", xlab=\"\",cex.axis = 0.8, cex.names= 0.75, main=\"SECUNDARIA TERCER AÑO\")"
   ]
  },
  {
   "cell_type": "code",
   "execution_count": null,
   "metadata": {
    "vscode": {
     "languageId": "r"
    }
   },
   "outputs": [],
   "source": [
    "#SECUNDARIA CUARTO AÑO\n",
    "x <- as.numeric(filter(sec, Asignatura == \"MATEMATICA\" & AnoCursado == \"4\")$Promedio)\n",
    "y <- as.numeric(filter(sec, Asignatura == \"LENGUA Y LITERATURA\" & AnoCursado == \"4\")$Promedio)\n",
    "\n",
    "hist(\n",
    "    x,\n",
    "    freq = FALSE,\n",
    "    col = \"grey\",\n",
    "    border = \"#ffffff51\",\n",
    "    breaks = c(1:10),\n",
    "    ylim = c(0, 0.25),\n",
    "    main = \"SECUNDARIA CUARTO AÑO\",\n",
    "    xlab = \"nota\"\n",
    ")\n",
    "\n",
    "legend(\"topright\", legend = c(\"Matemática\", \"Media\", \"Lengua y Literatura\", \"Media\"),\n",
    "       fill =  c(\"lightgrey\", \"red\", \"steelblue1\", \"black\"),\n",
    "       cex = 0.8\n",
    ")\n",
    "\n",
    "hist(\n",
    "    y,\n",
    "    freq = FALSE,\n",
    "    col = \"#5caceea9\",\n",
    "    border = \"#ffffff51\",\n",
    "    breaks = c(1:10),\n",
    "    add = TRUE\n",
    ")\n",
    "\n",
    "mean_x <- mean(x,na.rm=TRUE)     \n",
    "#med_x <- median(x,na.rm=TRUE)   \n",
    "mean_y <- mean(y,na.rm=TRUE)     \n",
    "#med_y <- median(y,na.rm=TRUE)   \n",
    "abline(v = mean_x, col = 'red')\n",
    "#abline(v = med_x, col = 'red')\n",
    "abline(v = mean_y, col = 'black')\n",
    "#abline(v = med_y, col = 'green')\n",
    "\n",
    "x <- filter(sec, AnoCursado == \"4\" & Asignatura %in% c(\"MATEMATICA\", \"LENGUA Y LITERATURA\"))$Promedio\n",
    "y <- as.character(filter(sec, AnoCursado == \"4\" & Asignatura %in% c(\"MATEMATICA\", \"LENGUA Y LITERATURA\"))$Asignatura)\n",
    "\n",
    "boxplot(x ~ y, col = rainbow(15), las = 2, ylab=\"notas\", xlab=\"\",cex.axis = 0.8, cex.names= 0.75, main=\"SECUNDARIA CUARTO AÑO\")"
   ]
  },
  {
   "cell_type": "code",
   "execution_count": null,
   "metadata": {
    "vscode": {
     "languageId": "r"
    }
   },
   "outputs": [],
   "source": [
    "#SECUNDARIA QUINTO AÑO\n",
    "x <- as.numeric(filter(sec, Asignatura == \"MATEMATICA\" & AnoCursado == \"5\")$Promedio)\n",
    "y <- as.numeric(filter(sec, Asignatura == \"LENGUA Y LITERATURA\" & AnoCursado == \"5\")$Promedio)\n",
    "\n",
    "hist(\n",
    "    x,\n",
    "    freq = FALSE,\n",
    "    col = \"grey\",\n",
    "    border = \"#ffffff51\",\n",
    "    breaks = c(1:10),\n",
    "    ylim = c(0, 0.30),\n",
    "    main = \"SECUNDARIA QUINTO AÑO\",\n",
    "    xlab = \"nota\"\n",
    ")\n",
    "\n",
    "legend(\"topright\", legend = c(\"Matemática\", \"Media\", \"Lengua y Literatura\", \"Media\"),\n",
    "       fill =  c(\"lightgrey\", \"red\", \"steelblue1\", \"black\"),\n",
    "       cex = 0.8\n",
    ")\n",
    "\n",
    "hist(\n",
    "    y,\n",
    "    freq = FALSE,\n",
    "    col = \"#5caceea9\",\n",
    "    border = \"#ffffff51\",\n",
    "    breaks = c(1:10),\n",
    "    add = TRUE\n",
    ")\n",
    "\n",
    "mean_x <- mean(x,na.rm=TRUE)     \n",
    "#med_x <- median(x,na.rm=TRUE)   \n",
    "mean_y <- mean(y,na.rm=TRUE)     \n",
    "#med_y <- median(y,na.rm=TRUE)   \n",
    "abline(v = mean_x, col = 'red')\n",
    "#abline(v = med_x, col = 'red')\n",
    "abline(v = mean_y, col = 'black')\n",
    "#abline(v = med_y, col = 'green')\n",
    "\n",
    "x <- filter(sec, AnoCursado == \"5\" & Asignatura %in% c(\"MATEMATICA\", \"LENGUA Y LITERATURA\"))$Promedio\n",
    "y <- as.character(filter(sec, AnoCursado == \"5\" & Asignatura %in% c(\"MATEMATICA\", \"LENGUA Y LITERATURA\"))$Asignatura)\n",
    "\n",
    "boxplot(x ~ y, col = rainbow(15), las = 2, ylab=\"notas\", xlab=\"\",cex.axis = 0.8, cex.names= 0.75, main=\"SECUNDARIA QUINTO AÑO\")"
   ]
  },
  {
   "cell_type": "code",
   "execution_count": null,
   "metadata": {
    "vscode": {
     "languageId": "r"
    }
   },
   "outputs": [],
   "source": [
    "mean(as.numeric(filter(sec, Asignatura == \"MATEMATICA\" & AnoCursado == \"1\")$Promedio))\n",
    "mean(as.numeric(filter(sec, Asignatura == \"LENGUA Y LITERATURA\" & AnoCursado == \"1\")$Promedio))\n",
    "print(\"-------\")\n",
    "mean(as.numeric(filter(sec, Asignatura == \"MATEMATICA\" & AnoCursado == \"2\")$Promedio))\n",
    "mean(as.numeric(filter(sec, Asignatura == \"LENGUA Y LITERATURA\" & AnoCursado == \"2\")$Promedio))\n",
    "print(\"-------\")\n",
    "mean(as.numeric(filter(sec, Asignatura == \"MATEMATICA\" & AnoCursado == \"3\")$Promedio))\n",
    "mean(as.numeric(filter(sec, Asignatura == \"LENGUA Y LITERATURA\" & AnoCursado == \"3\")$Promedio))\n",
    "print(\"-------\")\n",
    "mean(as.numeric(filter(sec, Asignatura == \"MATEMATICA\" & AnoCursado == \"4\")$Promedio))\n",
    "mean(as.numeric(filter(sec, Asignatura == \"LENGUA Y LITERATURA\" & AnoCursado == \"4\")$Promedio))\n",
    "print(\"-------\")\n",
    "mean(as.numeric(filter(sec, Asignatura == \"MATEMATICA\" & AnoCursado == \"5\")$Promedio))\n",
    "mean(as.numeric(filter(sec, Asignatura == \"LENGUA Y LITERATURA\" & AnoCursado == \"5\")$Promedio))"
   ]
  },
  {
   "cell_type": "code",
   "execution_count": null,
   "metadata": {
    "vscode": {
     "languageId": "r"
    }
   },
   "outputs": [],
   "source": [
    "median(as.numeric(filter(sec, Asignatura == \"MATEMATICA\" & AnoCursado == \"1\")$Promedio))\n",
    "median(as.numeric(filter(sec, Asignatura == \"LENGUA Y LITERATURA\" & AnoCursado == \"1\")$Promedio))\n",
    "print(\"-------\")\n",
    "median(as.numeric(filter(sec, Asignatura == \"MATEMATICA\" & AnoCursado == \"2\")$Promedio))\n",
    "median(as.numeric(filter(sec, Asignatura == \"LENGUA Y LITERATURA\" & AnoCursado == \"2\")$Promedio))\n",
    "print(\"-------\")\n",
    "median(as.numeric(filter(sec, Asignatura == \"MATEMATICA\" & AnoCursado == \"3\")$Promedio))\n",
    "median(as.numeric(filter(sec, Asignatura == \"LENGUA Y LITERATURA\" & AnoCursado == \"3\")$Promedio))\n",
    "print(\"-------\")\n",
    "median(as.numeric(filter(sec, Asignatura == \"MATEMATICA\" & AnoCursado == \"4\")$Promedio))\n",
    "median(as.numeric(filter(sec, Asignatura == \"LENGUA Y LITERATURA\" & AnoCursado == \"4\")$Promedio))\n",
    "print(\"-------\")\n",
    "median(as.numeric(filter(sec, Asignatura == \"MATEMATICA\" & AnoCursado == \"5\")$Promedio))\n",
    "median(as.numeric(filter(sec, Asignatura == \"LENGUA Y LITERATURA\" & AnoCursado == \"5\")$Promedio))"
   ]
  },
  {
   "cell_type": "code",
   "execution_count": null,
   "metadata": {
    "vscode": {
     "languageId": "r"
    }
   },
   "outputs": [],
   "source": [
    "# al comparar las medidas de centralidad tanto la mediana como la media, lengua supera las notas de matematica. Hay un caso donde \n",
    "# esto no sucede, en cuarto año las 2 materias tienen la misma mediana y promedio similares. No existe una gran diferencia de rendimiento \n",
    "# entre las notas ya que la maxima difirencia que se puede encontrar es de 0.4 la media en segundo, la cual es representativa ya que los box plot\n",
    "# no presentan valores atipicos o extremos.\n",
    "# Otra diferencia que se puede ver en los box plot es como matematica presenta mayor dispersion, principalmente en segundo y cuarto año"
   ]
  },
  {
   "cell_type": "code",
   "execution_count": null,
   "metadata": {
    "vscode": {
     "languageId": "r"
    }
   },
   "outputs": [],
   "source": [
    "#PRIMARIA PRIMER AÑO \n",
    "x <- as.numeric(filter(pri, Asignatura == \"MATEMATICA\" & AnoCursado == \"1\")$Promedio)\n",
    "y <- as.numeric(filter(pri, Asignatura == \"LENGUA\" & AnoCursado == \"1\")$Promedio)\n",
    "\n",
    "hist(x, col=\"paleturquoise3\",border=\"royalblue\",breaks = \"Sturges\", ylim = c(0, 170),\n",
    "     density=20,angle=70, xlab=\"notas\", ylab=\"frecuencia absoluta\", main=\"PRIMARIA PRIMER AÑO\")\n",
    "hist(y, add = TRUE, col = rgb(1, 1, 0, alpha = 0.5))\n",
    "\n",
    "mean_x <- mean(x,na.rm=TRUE)     \n",
    "med_x <- median(x,na.rm=TRUE)   \n",
    "mean_y <- mean(y,na.rm=TRUE)     \n",
    "med_y <- median(y,na.rm=TRUE)   \n",
    "abline(v = mean_x, col = 'blue')\n",
    "abline(v = med_x, col = 'red')\n",
    "abline(v = mean_y, col = 'black')\n",
    "abline(v = med_y, col = 'green')\n",
    "\n",
    "x <- filter(pri, AnoCursado == \"1\" & Asignatura %in% c(\"MATEMATICA\", \"LENGUA\"))$Promedio\n",
    "y <- as.character(filter(pri, AnoCursado == \"1\" & Asignatura %in% c(\"MATEMATICA\", \"LENGUA\"))$Asignatura)\n",
    "\n",
    "boxplot(x ~ y, col = rainbow(15), las = 2, ylab=\"notas\", xlab=\"\",cex.axis = 0.8, cex.names= 0.75, main=\"PRIMARIA PRIMER AÑO\")"
   ]
  },
  {
   "cell_type": "code",
   "execution_count": null,
   "metadata": {
    "vscode": {
     "languageId": "r"
    }
   },
   "outputs": [],
   "source": [
    "#PRIMARIA SEGUNDO AÑO \n",
    "x <- as.numeric(filter(pri, Asignatura == \"MATEMATICA\" & AnoCursado == \"2\")$Promedio)\n",
    "y <- as.numeric(filter(pri, Asignatura == \"LENGUA\" & AnoCursado == \"2\")$Promedio)\n",
    "\n",
    "hist(x, col=\"paleturquoise3\",border=\"royalblue\",breaks = \"Sturges\", ylim = c(0, 170),\n",
    "     density=20,angle=70, xlab=\"notas\", ylab=\"frecuencia absoluta\", main=\"PRIMARIA SEGUNDO AÑO\")\n",
    "hist(y, add = TRUE, col = rgb(1, 1, 0, alpha = 0.5))\n",
    "\n",
    "mean_x <- mean(x,na.rm=TRUE)     \n",
    "med_x <- median(x,na.rm=TRUE)   \n",
    "mean_y <- mean(y,na.rm=TRUE)     \n",
    "med_y <- median(y,na.rm=TRUE)   \n",
    "abline(v = mean_x, col = 'blue')\n",
    "abline(v = med_x, col = 'red')\n",
    "abline(v = mean_y, col = 'black')\n",
    "abline(v = med_y, col = 'green')\n",
    "\n",
    "x <- filter(pri, AnoCursado == \"2\" & Asignatura %in% c(\"MATEMATICA\", \"LENGUA\"))$Promedio\n",
    "y <- as.character(filter(pri, AnoCursado == \"2\" & Asignatura %in% c(\"MATEMATICA\", \"LENGUA\"))$Asignatura)\n",
    "\n",
    "boxplot(x ~ y, col = rainbow(15), las = 2, ylab=\"notas\", xlab=\"\",cex.axis = 0.8, cex.names= 0.75, main=\"PRIMARIA SEGUNDO AÑO\")"
   ]
  },
  {
   "cell_type": "code",
   "execution_count": null,
   "metadata": {
    "vscode": {
     "languageId": "r"
    }
   },
   "outputs": [],
   "source": [
    "#PRIMARIA TERCERO AÑO \n",
    "x <- as.numeric(filter(pri, Asignatura == \"MATEMATICA\" & AnoCursado == \"3\")$Promedio)\n",
    "y <- as.numeric(filter(pri, Asignatura == \"LENGUA\" & AnoCursado == \"3\")$Promedio)\n",
    "\n",
    "hist(x, col=\"paleturquoise3\",border=\"royalblue\",breaks = \"Sturges\", ylim = c(0, 170),\n",
    "     density=20,angle=70, xlab=\"notas\", ylab=\"frecuencia absoluta\", main=\"PRIMARIA TERCERO AÑO \")\n",
    "hist(y, add = TRUE, col = rgb(1, 1, 0, alpha = 0.5))\n",
    "\n",
    "mean_x <- mean(x,na.rm=TRUE)     \n",
    "med_x <- median(x,na.rm=TRUE)   \n",
    "mean_y <- mean(y,na.rm=TRUE)     \n",
    "med_y <- median(y,na.rm=TRUE)   \n",
    "abline(v = mean_x, col = 'blue')\n",
    "abline(v = med_x, col = 'red')\n",
    "abline(v = mean_y, col = 'black')\n",
    "abline(v = med_y, col = 'green')\n",
    "\n",
    "x <- filter(pri, AnoCursado == \"3\" & Asignatura %in% c(\"MATEMATICA\", \"LENGUA\"))$Promedio\n",
    "y <- as.character(filter(pri, AnoCursado == \"3\" & Asignatura %in% c(\"MATEMATICA\", \"LENGUA\"))$Asignatura)\n",
    "\n",
    "boxplot(x ~ y, col = rainbow(15), las = 2, ylab=\"notas\", xlab=\"\",cex.axis = 0.8, cex.names= 0.75, main=\"PRIMARIA TERCERO AÑO \")"
   ]
  },
  {
   "cell_type": "code",
   "execution_count": null,
   "metadata": {
    "vscode": {
     "languageId": "r"
    }
   },
   "outputs": [],
   "source": [
    "#PRIMARIA CUARTO AÑO \n",
    "x <- as.numeric(filter(pri, Asignatura == \"MATEMATICA\" & AnoCursado == \"4\")$Promedio)\n",
    "y <- as.numeric(filter(pri, Asignatura == \"LENGUA\" & AnoCursado == \"4\")$Promedio)\n",
    "\n",
    "hist(x, col=\"paleturquoise3\",border=\"royalblue\",breaks = \"Sturges\", ylim = c(0, 170),\n",
    "     density=20,angle=70, xlab=\"notas\", ylab=\"frecuencia absoluta\", main=\"PRIMARIA CUARTO AÑO \")\n",
    "hist(y, add = TRUE, col = rgb(1, 1, 0, alpha = 0.5))\n",
    "\n",
    "mean_x <- mean(x,na.rm=TRUE)     \n",
    "med_x <- median(x,na.rm=TRUE)   \n",
    "mean_y <- mean(y,na.rm=TRUE)     \n",
    "med_y <- median(y,na.rm=TRUE)   \n",
    "abline(v = mean_x, col = 'blue')\n",
    "abline(v = med_x, col = 'red')\n",
    "abline(v = mean_y, col = 'black')\n",
    "abline(v = med_y, col = 'green')\n",
    "\n",
    "x <- filter(pri, AnoCursado == \"4\" & Asignatura %in% c(\"MATEMATICA\", \"LENGUA\"))$Promedio\n",
    "y <- as.character(filter(pri, AnoCursado == \"4\" & Asignatura %in% c(\"MATEMATICA\", \"LENGUA\"))$Asignatura)\n",
    "\n",
    "boxplot(x ~ y, col = rainbow(15), las = 2, ylab=\"notas\", xlab=\"\",cex.axis = 0.8, cex.names= 0.75, main=\"PRIMARIA CUARTO AÑO \")"
   ]
  },
  {
   "cell_type": "code",
   "execution_count": null,
   "metadata": {
    "vscode": {
     "languageId": "r"
    }
   },
   "outputs": [],
   "source": [
    "#PRIMARIA QUINTO AÑO \n",
    "x <- as.numeric(filter(pri, Asignatura == \"MATEMATICA\" & AnoCursado == \"5\")$Promedio)\n",
    "y <- as.numeric(filter(pri, Asignatura == \"LENGUA\" & AnoCursado == \"5\")$Promedio)\n",
    "\n",
    "hist(x, col=\"paleturquoise3\",border=\"royalblue\",breaks = \"Sturges\", ylim = c(0, 170),\n",
    "     density=20,angle=70, xlab=\"notas\", ylab=\"frecuencia absoluta\", main=\"PRIMARIA QUINTO AÑO\")\n",
    "hist(y, add = TRUE, col = rgb(1, 1, 0, alpha = 0.5))\n",
    "\n",
    "mean_x <- mean(x,na.rm=TRUE)     \n",
    "med_x <- median(x,na.rm=TRUE)   \n",
    "mean_y <- mean(y,na.rm=TRUE)     \n",
    "med_y <- median(y,na.rm=TRUE)   \n",
    "abline(v = mean_x, col = 'blue')\n",
    "abline(v = med_x, col = 'red')\n",
    "abline(v = mean_y, col = 'black')\n",
    "abline(v = med_y, col = 'green')\n",
    "\n",
    "x <- filter(pri, AnoCursado == \"5\" & Asignatura %in% c(\"MATEMATICA\", \"LENGUA\"))$Promedio\n",
    "y <- as.character(filter(pri, AnoCursado == \"5\" & Asignatura %in% c(\"MATEMATICA\", \"LENGUA\"))$Asignatura)\n",
    "\n",
    "boxplot(x ~ y, col = rainbow(15), las = 2, ylab=\"notas\", xlab=\"\",cex.axis = 0.8, cex.names= 0.75, main=\"PRIMARIA QUINTO AÑO\")"
   ]
  },
  {
   "cell_type": "code",
   "execution_count": null,
   "metadata": {
    "vscode": {
     "languageId": "r"
    }
   },
   "outputs": [],
   "source": [
    "#PRIMARIA SEXTO AÑO \n",
    "x <- as.numeric(filter(pri, Asignatura == \"MATEMATICA\" & AnoCursado == \"6\")$Promedio)\n",
    "y <- as.numeric(filter(pri, Asignatura == \"LENGUA\" & AnoCursado == \"6\")$Promedio)\n",
    "\n",
    "hist(x, col=\"paleturquoise3\",border=\"royalblue\",breaks = \"Sturges\", ylim = c(0, 170),\n",
    "     density=20,angle=70, xlab=\"notas\", ylab=\"frecuencia absoluta\", main=\"PRIMARIA SEXTO AÑO\")\n",
    "hist(y, add = TRUE, col = rgb(1, 1, 0, alpha = 0.5))\n",
    "\n",
    "mean_x <- mean(x,na.rm=TRUE)     \n",
    "med_x <- median(x,na.rm=TRUE)   \n",
    "mean_y <- mean(y,na.rm=TRUE)     \n",
    "med_y <- median(y,na.rm=TRUE)   \n",
    "abline(v = mean_x, col = 'blue')\n",
    "abline(v = med_x, col = 'red')\n",
    "abline(v = mean_y, col = 'black')\n",
    "abline(v = med_y, col = 'green')\n",
    "\n",
    "x <- filter(pri, AnoCursado == \"6\" & Asignatura %in% c(\"MATEMATICA\", \"LENGUA\"))$Promedio\n",
    "y <- as.character(filter(pri, AnoCursado == \"6\" & Asignatura %in% c(\"MATEMATICA\", \"LENGUA\"))$Asignatura)\n",
    "\n",
    "boxplot(x ~ y, col = rainbow(15), las = 2, ylab=\"notas\", xlab=\"\",cex.axis = 0.8, cex.names= 0.75, main=\"PRIMARIA SEXTO AÑO\")\n",
    "# Calculamos la densidad\n",
    "dx <- density(x)\n",
    "\n",
    "# Añadimos la línea de densidad\n",
    "lines(dx, col = \"black\")\n",
    "\n",
    "legend(\"topright\", legend = c(\"media\", \"mediana\"),\n",
    "       fill =  c(\"blue\", \"red\"))\n",
    "\n",
    "cv <-sqrt(var(x))/mean(x)\n",
    "cv\n",
    "\n",
    "#----------------\n"
   ]
  },
  {
   "cell_type": "code",
   "execution_count": null,
   "metadata": {
    "vscode": {
     "languageId": "r"
    }
   },
   "outputs": [],
   "source": [
    "mean(as.numeric(filter(pri, Asignatura == \"MATEMATICA\" & AnoCursado == \"1\")$Promedio))\n",
    "mean(as.numeric(filter(pri, Asignatura == \"LENGUA\" & AnoCursado == \"1\")$Promedio))\n",
    "print(\"2-------\")\n",
    "mean(as.numeric(filter(pri, Asignatura == \"MATEMATICA\" & AnoCursado == \"2\")$Promedio))\n",
    "mean(as.numeric(filter(pri, Asignatura == \"LENGUA\" & AnoCursado == \"2\")$Promedio))\n",
    "print(\"3-------\")\n",
    "mean(as.numeric(filter(pri, Asignatura == \"MATEMATICA\" & AnoCursado == \"3\")$Promedio))\n",
    "mean(as.numeric(filter(pri, Asignatura == \"LENGUA\" & AnoCursado == \"3\")$Promedio))\n",
    "print(\"4-------\")\n",
    "mean(as.numeric(filter(pri, Asignatura == \"MATEMATICA\" & AnoCursado == \"4\")$Promedio))\n",
    "mean(as.numeric(filter(pri, Asignatura == \"LENGUA\" & AnoCursado == \"4\")$Promedio))\n",
    "print(\"5-------\")\n",
    "mean(as.numeric(filter(pri, Asignatura == \"MATEMATICA\" & AnoCursado == \"5\")$Promedio))\n",
    "mean(as.numeric(filter(pri, Asignatura == \"LENGUA\" & AnoCursado == \"5\")$Promedio))\n",
    "print(\"6-------\")\n",
    "mean(as.numeric(filter(pri, Asignatura == \"MATEMATICA\" & AnoCursado == \"6\")$Promedio))\n",
    "mean(as.numeric(filter(pri, Asignatura == \"LENGUA\" & AnoCursado == \"6\")$Promedio))"
   ]
  },
  {
   "cell_type": "code",
   "execution_count": null,
   "metadata": {
    "vscode": {
     "languageId": "r"
    }
   },
   "outputs": [],
   "source": [
    "median(as.numeric(filter(pri, Asignatura == \"MATEMATICA\" & AnoCursado == \"1\")$Promedio))\n",
    "median(as.numeric(filter(pri, Asignatura == \"LENGUA\" & AnoCursado == \"1\")$Promedio))\n",
    "print(\"2-------\")\n",
    "median(as.numeric(filter(pri, Asignatura == \"MATEMATICA\" & AnoCursado == \"2\")$Promedio))\n",
    "median(as.numeric(filter(pri, Asignatura == \"LENGUA\" & AnoCursado == \"2\")$Promedio))\n",
    "print(\"3-------\")\n",
    "median(as.numeric(filter(pri, Asignatura == \"MATEMATICA\" & AnoCursado == \"3\")$Promedio))\n",
    "median(as.numeric(filter(pri, Asignatura == \"LENGUA\" & AnoCursado == \"3\")$Promedio))\n",
    "print(\"4-------\")\n",
    "median(as.numeric(filter(pri, Asignatura == \"MATEMATICA\" & AnoCursado == \"4\")$Promedio))\n",
    "median(as.numeric(filter(pri, Asignatura == \"LENGUA\" & AnoCursado == \"4\")$Promedio))\n",
    "print(\"5-------\")\n",
    "median(as.numeric(filter(pri, Asignatura == \"MATEMATICA\" & AnoCursado == \"5\")$Promedio))\n",
    "median(as.numeric(filter(pri, Asignatura == \"LENGUA\" & AnoCursado == \"5\")$Promedio))\n",
    "print(\"6-------\")\n",
    "median(as.numeric(filter(pri, Asignatura == \"MATEMATICA\" & AnoCursado == \"6\")$Promedio))\n",
    "median(as.numeric(filter(pri, Asignatura == \"LENGUA\" & AnoCursado == \"6\")$Promedio))"
   ]
  },
  {
   "cell_type": "code",
   "execution_count": null,
   "metadata": {
    "vscode": {
     "languageId": "r"
    }
   },
   "outputs": [],
   "source": [
    "# al comparar las medianas no se encuentran diferencias de rendimiento en las notas, en casi todos los años tienen la misma\n",
    "# mediana. en cambio al ver la media si se puede encontrar una leve diferencia en las notas, ya que matematica supera a lengua \n",
    "# en los distintos años por muy poco con un 0.1. De igual manera no es suficiente para decir que en matematica existe un mejor\n",
    "# rendimiento, en conclucion tuvieron el mismo desempeño.\n",
    "# las dos materias tienen una dispersion normal en los distintos años. Solo en sexto y segundo año se da que lengua tiene mayor dispersion que matematica"
   ]
  },
  {
   "cell_type": "code",
   "execution_count": null,
   "metadata": {
    "vscode": {
     "languageId": "r"
    }
   },
   "outputs": [],
   "source": [
    "# EJ 5\n",
    "\n",
    "x <- filter(sec, Asignatura == \"MATEMATICA\" & AnoCursado == \"1\" & Turno %in% c(\"TARDE\", \"MAÑANA\"))$Promedio\n",
    "y <- as.character(filter(sec, Asignatura == \"MATEMATICA\" & AnoCursado == \"1\" & Turno %in% c(\"TARDE\", \"MAÑANA\"))$Turno)\n",
    "\n",
    "\n",
    "boxplot(x ~ y, col = c(\"steelblue1\", \"red\"), las = 2, ylab=\"notas\", xlab=\"\",cex.axis = 0.8, cex.names= 0.75, main=\"matematica 1ro\")\n",
    "\n",
    "# Los datos respecto al turno manana presentan una distribucion con tendencia normal y se logra visualizar un valor atipico entorno a 1.\n",
    "# por otra parte los datos del turno tarde nos presentan una distribucion sesgada hacia la derecha.\n",
    "# el desempenio de los estudiantes es similar pero ligeramente superior en el turno manana"
   ]
  },
  {
   "cell_type": "code",
   "execution_count": null,
   "metadata": {
    "vscode": {
     "languageId": "r"
    }
   },
   "outputs": [],
   "source": [
    "x <- filter(sec, Asignatura == \"MATEMATICA\" & AnoCursado == \"2\" & Turno %in% c(\"TARDE\", \"MAÑANA\"))$Promedio\n",
    "y <- as.character(filter(sec, Asignatura == \"MATEMATICA\" & AnoCursado == \"2\" & Turno %in% c(\"TARDE\", \"MAÑANA\"))$Turno)\n",
    "\n",
    "\n",
    "boxplot(x ~ y, col = c(\"steelblue1\", \"red\"), las = 2, ylab=\"notas\", xlab=\"\",cex.axis = 0.8, cex.names= 0.75, main=\"matematicas 2do\")\n",
    "#mejor desempenio turno manana"
   ]
  },
  {
   "cell_type": "code",
   "execution_count": null,
   "metadata": {
    "vscode": {
     "languageId": "r"
    }
   },
   "outputs": [],
   "source": [
    "x <- filter(sec, Asignatura == \"MATEMATICA\" & AnoCursado == \"3\" & Turno %in% c(\"TARDE\", \"MAÑANA\"))$Promedio\n",
    "y <- as.character(filter(sec, Asignatura == \"MATEMATICA\" & AnoCursado == \"3\" & Turno %in% c(\"TARDE\", \"MAÑANA\"))$Turno)\n",
    "\n",
    "\n",
    "boxplot(x ~ y, col = c(\"steelblue1\", \"red\"), las = 2, ylab=\"notas\", xlab=\"\",cex.axis = 0.8, cex.names= 0.75, main=\"matematicas 3ro\")\n",
    "\n",
    "# Para este conjunto de datos podemos observar una similitud entre ambos turnos pero ligeramente superior para los correspondientes al turno tarde."
   ]
  },
  {
   "cell_type": "code",
   "execution_count": null,
   "metadata": {
    "vscode": {
     "languageId": "r"
    }
   },
   "outputs": [],
   "source": [
    "x <- filter(sec, Asignatura == \"MATEMATICA\" & AnoCursado == \"4\" & Turno %in% c(\"TARDE\", \"MAÑANA\"))$Promedio\n",
    "y <- as.character(filter(sec, Asignatura == \"MATEMATICA\" & AnoCursado == \"4\" & Turno %in% c(\"TARDE\", \"MAÑANA\"))$Turno)\n",
    "\n",
    "\n",
    "boxplot(x ~ y, col = c(\"steelblue1\", \"red\"), las = 2, ylab=\"notas\", xlab=\"\",cex.axis = 0.8, cex.names= 0.75, main=\"matematicas 4to\")\n",
    "\n",
    "#mejor desempenio turno manana"
   ]
  },
  {
   "cell_type": "code",
   "execution_count": null,
   "metadata": {
    "vscode": {
     "languageId": "r"
    }
   },
   "outputs": [],
   "source": [
    "x <- filter(sec, Asignatura == \"MATEMATICA\" & AnoCursado == \"5\" & Turno %in% c(\"TARDE\", \"MAÑANA\"))$Promedio\n",
    "y <- as.character(filter(sec, Asignatura == \"MATEMATICA\" & AnoCursado == \"5\" & Turno %in% c(\"TARDE\", \"MAÑANA\"))$Turno)\n",
    "\n",
    "\n",
    "boxplot(x ~ y, col = c(\"steelblue1\", \"red\"), las = 2, ylab=\"notas\", xlab=\"\",cex.axis = 0.8, cex.names= 0.75, main=\"matematicas 5to\")\n",
    "\n",
    "# En los datos correspondientes al turno manana se observa mejor desempenio, ademas\n",
    "# un menor rango de notas, y una menor dispersion con respecto al turno tarde\n",
    "# A su vez presenta tres valores atipicos cercanos a 2."
   ]
  },
  {
   "cell_type": "code",
   "execution_count": null,
   "metadata": {
    "vscode": {
     "languageId": "r"
    }
   },
   "outputs": [],
   "source": [
    "x <- filter(sec, Asignatura == \"MATEMATICA\" & AnoCursado == \"6\" & Turno %in% c(\"TARDE\", \"MAÑANA\"))$Promedio\n",
    "y <- as.character(filter(sec, Asignatura == \"MATEMATICA\" & AnoCursado == \"6\" & Turno %in% c(\"TARDE\", \"MAÑANA\"))$Turno)\n",
    "\n",
    "\n",
    "boxplot(x ~ y, col = c(\"steelblue1\", \"red\"), las = 2, ylab=\"notas\", xlab=\"\",cex.axis = 0.8, cex.names= 0.75, main=\"matematicas 6to\")\n",
    "# mejor desempenio para el turno tarde"
   ]
  },
  {
   "cell_type": "code",
   "execution_count": null,
   "metadata": {
    "vscode": {
     "languageId": "r"
    }
   },
   "outputs": [],
   "source": [
    "library(nortest)\n",
    "#library(MASS)\n",
    "library(ppcor)\n"
   ]
  },
  {
   "cell_type": "code",
   "execution_count": null,
   "metadata": {
    "vscode": {
     "languageId": "r"
    }
   },
   "outputs": [],
   "source": [
    "# EJ 6\n",
    "\n",
    "x <- dplyr::select(filter(sec, Asignatura==\"MATEMATICA\"& AnoCursado== \"1\"),\"Documento\",\"Promedio\")\n",
    "y <- dplyr::select(filter(sec, Asignatura==\"LENGUA Y LITERATURA\" & AnoCursado== \"1\"),\"Documento\",\"Promedio\")\n",
    "\n",
    "df <- x %>% inner_join(y, by = \"Documento\")\n",
    "df <- rename(df,Prom_Mat=Promedio.x, Prom_Leng=Promedio.y)\n",
    "\n",
    "plot(df$Prom_Mat, df$Prom_Leng, ylim = c(0, 10), xlim = c(0, 10), main = \"primer año secundaria\", xlab = \"Matemática\",\n",
    "     ylab = \"LENGUA Y LITERATURA\", col=\"blue\", pch = 16)\n",
    "\n",
    "lillie.test(df$Prom_Mat)\n",
    "lillie.test(df$Prom_Leng)\n",
    "#me da un valor muy chico\n",
    "#no tienen distribucion normal \n",
    "\n",
    "cor.test(df$Prom_Mat, df$Prom_Leng, method=\"spearman\")"
   ]
  },
  {
   "cell_type": "code",
   "execution_count": null,
   "metadata": {
    "vscode": {
     "languageId": "r"
    }
   },
   "outputs": [],
   "source": [
    "x <- dplyr::select(filter(sec, Asignatura==\"MATEMATICA\"& AnoCursado== \"2\"),\"Documento\",\"Promedio\")\n",
    "y <- dplyr::select(filter(sec, Asignatura==\"LENGUA Y LITERATURA\" & AnoCursado== \"2\"),\"Documento\",\"Promedio\")\n",
    "\n",
    "df <- x %>% inner_join(y, by = \"Documento\")\n",
    "df <- rename(df,Prom_Mat=Promedio.x, Prom_Leng=Promedio.y)\n",
    "\n",
    "plot(df$Prom_Mat, df$Prom_Leng, ylim = c(0, 10), xlim = c(0, 10), main = \"segundo año secundaria\", xlab = \"Matemática\",\n",
    "     ylab = \"LENGUA Y LITERATURA\", col=\"blue\", pch = 16)\n",
    "\n",
    "lillie.test(df$Prom_Mat)\n",
    "lillie.test(df$Prom_Leng)\n",
    "#me da un valor muy chico\n",
    "#no tienen distribucion normal \n",
    "\n",
    "cor.test(df$Prom_Mat, df$Prom_Leng, method=\"spearman\")\n"
   ]
  },
  {
   "cell_type": "code",
   "execution_count": null,
   "metadata": {
    "vscode": {
     "languageId": "r"
    }
   },
   "outputs": [],
   "source": [
    "x <- dplyr::select(filter(sec, Asignatura==\"MATEMATICA\"& AnoCursado== \"3\"),\"Documento\",\"Promedio\")\n",
    "y <- dplyr::select(filter(sec, Asignatura==\"LENGUA Y LITERATURA\" & AnoCursado== \"3\"),\"Documento\",\"Promedio\")\n",
    "\n",
    "df <- x %>% inner_join(y, by = \"Documento\")\n",
    "df <- rename(df,Prom_Mat=Promedio.x, Prom_Leng=Promedio.y)\n",
    "\n",
    "plot(df$Prom_Mat, df$Prom_Leng, ylim = c(0, 10), xlim = c(0, 10), main = \"tercer año secundaria\", xlab = \"Matemática\",\n",
    "     ylab = \"LENGUA Y LITERATURA\", col=\"blue\", pch = 16)\n",
    "\n",
    "lillie.test(df$Prom_Mat)\n",
    "lillie.test(df$Prom_Leng)\n",
    "#me da un valor muy chico\n",
    "#no tienen distribucion normal \n",
    "\n",
    "cor.test(df$Prom_Mat, df$Prom_Leng, method=\"spearman\")\n"
   ]
  },
  {
   "cell_type": "code",
   "execution_count": null,
   "metadata": {
    "vscode": {
     "languageId": "r"
    }
   },
   "outputs": [],
   "source": [
    "x <- dplyr::select(filter(sec, Asignatura==\"MATEMATICA\"& AnoCursado== \"4\"),\"Documento\",\"Promedio\")\n",
    "y <- dplyr::select(filter(sec, Asignatura==\"LENGUA Y LITERATURA\" & AnoCursado== \"4\"),\"Documento\",\"Promedio\")\n",
    "\n",
    "df <- x %>% inner_join(y, by = \"Documento\")\n",
    "df <- rename(df,Prom_Mat=Promedio.x, Prom_Leng=Promedio.y)\n",
    "\n",
    "plot(df$Prom_Mat, df$Prom_Leng, ylim = c(0, 10), xlim = c(0, 10), main = \"cuarto año secundaria\", xlab = \"Matemática\",\n",
    "     ylab = \"LENGUA Y LITERATURA\", col=\"blue\", pch = 16)\n",
    "\n",
    "lillie.test(df$Prom_Mat)\n",
    "lillie.test(df$Prom_Leng)\n",
    "#me da un valor muy chico\n",
    "#no tienen distribucion normal \n",
    "\n",
    "cor.test(df$Prom_Mat, df$Prom_Leng, method=\"spearman\")"
   ]
  },
  {
   "cell_type": "code",
   "execution_count": null,
   "metadata": {
    "vscode": {
     "languageId": "r"
    }
   },
   "outputs": [],
   "source": [
    "#SECUNDARIA\n",
    "# 6) Realice un diagrama de dispersión para detectar outlier entre las notas obtenidas por los estudiantes en Lengua\n",
    "# y Matemática de los diferentes años.\n",
    "# 7) A partir de los diagramas realizados en el punto anterior, puede detectarse en algún año una relación lineal, de\n",
    "# ser así calcule coeficientes apropiados que permitan aportar información e indique si la asociación encontrada\n",
    "# es débil, moderada, o fuerte.\n",
    "# 6) se encontro 1 outlier en el primer año de secundaria, con una nota muy baja comparada con el resto.  \n",
    "\n",
    "#7) se usa lillie.test para ver la distribucion de los datos. los datos no tienen una distribucion normal entonces se utiliza \n",
    "# spearman para encontrar una relacion lineal.\n",
    "# los años que tuvieron una correlacion buena fueron: primer año 0.7696085, segundo año 0.6664015 y  tercero 0.6594309, por \n",
    "# otro lado cuarto año tiene una correlacion moderada 0.5775122, mientras mas avanzado sea el año menor es la relacion lineal. como rho es cercano a 1, podemos interpretarlo como una correlación positiva\n",
    "# fuerte entre matematica y lengua. El valor del p-valor en todos los años fue por debajo de 0,05. Esto indica que hay una fuerte evidencia en contra \n",
    "# de la hipótesis nula de que no hay correlación entre matematica y lengua. \n"
   ]
  },
  {
   "cell_type": "code",
   "execution_count": null,
   "metadata": {
    "vscode": {
     "languageId": "r"
    }
   },
   "outputs": [],
   "source": [
    "x <- dplyr::select(filter(pri, Asignatura==\"MATEMATICA\"& AnoCursado== \"1\"),\"Documento\",\"Promedio\")\n",
    "y <- dplyr::select(filter(pri, Asignatura==\"LENGUA\" & AnoCursado== \"1\"),\"Documento\",\"Promedio\")\n",
    "\n",
    "df <- x %>% inner_join(y, by = \"Documento\")\n",
    "df <- rename(df,Prom_Mat=Promedio.x, Prom_Leng=Promedio.y)\n",
    "\n",
    "plot(df$Prom_Mat, df$Prom_Leng, ylim = c(0, 10), xlim = c(0, 10), main = \"primer año primaria\", xlab = \"Matemática\",\n",
    "     ylab = \"LENGUA\", col=\"red\", pch = 16)\n",
    "#me fijo si tienen distribucion normal\n",
    "#no uso shappiro ya que son muchos datos\n",
    "lillie.test(df$Prom_Mat)\n",
    "lillie.test(df$Prom_Leng)\n",
    "#me da un valor muy chico\n",
    "#no tienen distribucion normal, entonces utilizo una medida no parametrica (spearman)\n",
    "\n",
    "cor.test(df$Prom_Mat, df$Prom_Leng, method=\"spearman\")\n"
   ]
  },
  {
   "cell_type": "code",
   "execution_count": null,
   "metadata": {
    "vscode": {
     "languageId": "r"
    }
   },
   "outputs": [],
   "source": [
    "x <- dplyr::select(filter(pri, Asignatura==\"MATEMATICA\"& AnoCursado== \"2\"),\"Documento\",\"Promedio\")\n",
    "y <- dplyr::select(filter(pri, Asignatura==\"LENGUA\" & AnoCursado== \"2\"),\"Documento\",\"Promedio\")\n",
    "\n",
    "df <- x %>% inner_join(y, by = \"Documento\")\n",
    "df <- rename(df,Prom_Mat=Promedio.x, Prom_Leng=Promedio.y)\n",
    "\n",
    "plot(df$Prom_Mat, df$Prom_Leng, ylim = c(0, 10), xlim = c(0, 10), main = \"Segundo año primaria\", xlab = \"Matemática\",\n",
    "     ylab = \"LENGUA\", col=\"red\", pch = 16)\n",
    "#me fijo si tienen distribucion normal\n",
    "#no uso shappiro ya que son muchos datos\n",
    "lillie.test(df$Prom_Mat)\n",
    "lillie.test(df$Prom_Leng)\n",
    "#me da un valor muy chico\n",
    "#no tienen distribucion normal, entonces utilizo una medida no parametrica (spearman)\n",
    "\n",
    "cor.test(df$Prom_Mat, df$Prom_Leng, method=\"spearman\")"
   ]
  },
  {
   "cell_type": "code",
   "execution_count": null,
   "metadata": {
    "vscode": {
     "languageId": "r"
    }
   },
   "outputs": [],
   "source": [
    "x <- dplyr::select(filter(pri, Asignatura==\"MATEMATICA\"& AnoCursado== \"3\"),\"Documento\",\"Promedio\")\n",
    "y <- dplyr::select(filter(pri, Asignatura==\"LENGUA\" & AnoCursado== \"3\"),\"Documento\",\"Promedio\")\n",
    "\n",
    "df <- x %>% inner_join(y, by = \"Documento\")\n",
    "df <- rename(df,Prom_Mat=Promedio.x, Prom_Leng=Promedio.y)\n",
    "\n",
    "plot(df$Prom_Mat, df$Prom_Leng, ylim = c(0, 10), xlim = c(0, 10), main = \"Tercer año primaria\", xlab = \"Matemática\",\n",
    "     ylab = \"LENGUA\", col=\"red\", pch = 16)\n",
    "#me fijo si tienen distribucion normal\n",
    "#no uso shappiro ya que son muchos datos\n",
    "lillie.test(df$Prom_Mat)\n",
    "lillie.test(df$Prom_Leng)\n",
    "#me da un valor muy chico\n",
    "#no tienen distribucion normal, entonces utilizo una medida no parametrica (spearman)\n",
    "\n",
    "cor.test(df$Prom_Mat, df$Prom_Leng, method=\"spearman\")"
   ]
  },
  {
   "cell_type": "code",
   "execution_count": null,
   "metadata": {
    "vscode": {
     "languageId": "r"
    }
   },
   "outputs": [],
   "source": [
    "x <- dplyr::select(filter(pri, Asignatura==\"MATEMATICA\"& AnoCursado== \"4\"),\"Documento\",\"Promedio\")\n",
    "y <- dplyr::select(filter(pri, Asignatura==\"LENGUA\" & AnoCursado== \"4\"),\"Documento\",\"Promedio\")\n",
    "\n",
    "df <- x %>% inner_join(y, by = \"Documento\")\n",
    "df <- rename(df,Prom_Mat=Promedio.x, Prom_Leng=Promedio.y)\n",
    "\n",
    "plot(df$Prom_Mat, df$Prom_Leng, ylim = c(0, 10), xlim = c(0, 10), main = \"cuarto año primaria\", xlab = \"Matemática\",\n",
    "     ylab = \"LENGUA\", col=\"red\", pch = 16)\n",
    "#me fijo si tienen distribucion normal\n",
    "#no uso shappiro ya que son muchos datos\n",
    "lillie.test(df$Prom_Mat)\n",
    "lillie.test(df$Prom_Leng)\n",
    "#me da un valor muy chico\n",
    "#no tienen distribucion normal, entonces utilizo una medida no parametrica (spearman)\n",
    "\n",
    "cor.test(df$Prom_Mat, df$Prom_Leng, method=\"spearman\")"
   ]
  },
  {
   "cell_type": "code",
   "execution_count": null,
   "metadata": {
    "vscode": {
     "languageId": "r"
    }
   },
   "outputs": [],
   "source": [
    "x <- dplyr::select(filter(pri, Asignatura==\"MATEMATICA\"& AnoCursado== \"5\"),\"Documento\",\"Promedio\")\n",
    "y <- dplyr::select(filter(pri, Asignatura==\"LENGUA\" & AnoCursado== \"5\"),\"Documento\",\"Promedio\")\n",
    "\n",
    "df <- x %>% inner_join(y, by = \"Documento\")\n",
    "df <- rename(df,Prom_Mat=Promedio.x, Prom_Leng=Promedio.y)\n",
    "\n",
    "plot(df$Prom_Mat, df$Prom_Leng, ylim = c(0, 10), xlim = c(0, 10), main = \"quinto año primaria\", xlab = \"Matemática\",\n",
    "     ylab = \"LENGUA\", col=\"red\", pch = 16)\n",
    "#me fijo si tienen distribucion normal\n",
    "#no uso shappiro ya que son muchos datos\n",
    "lillie.test(df$Prom_Mat)\n",
    "lillie.test(df$Prom_Leng)\n",
    "#me da un valor muy chico\n",
    "#no tienen distribucion normal, entonces utilizo una medida no parametrica (spearman)\n",
    "\n",
    "cor.test(df$Prom_Mat, df$Prom_Leng, method=\"spearman\")"
   ]
  },
  {
   "cell_type": "code",
   "execution_count": null,
   "metadata": {
    "vscode": {
     "languageId": "r"
    }
   },
   "outputs": [],
   "source": [
    "x <- dplyr::select(filter(pri, Asignatura==\"MATEMATICA\"& AnoCursado== \"6\"),\"Documento\",\"Promedio\")\n",
    "y <- dplyr::select(filter(pri, Asignatura==\"LENGUA\" & AnoCursado== \"6\"),\"Documento\",\"Promedio\")\n",
    "\n",
    "df <- x %>% inner_join(y, by = \"Documento\")\n",
    "df <- rename(df,Prom_Mat=Promedio.x, Prom_Leng=Promedio.y)\n",
    "\n",
    "plot(df$Prom_Mat, df$Prom_Leng, ylim = c(0, 10), xlim = c(0, 10), main = \"sexto año primaria\", xlab = \"Matemática\",\n",
    "     ylab = \"LENGUA\", col=\"red\", pch = 16)\n",
    "#me fijo si tienen distribucion normal\n",
    "#no uso shappiro ya que son muchos datos\n",
    "lillie.test(df$Prom_Mat)\n",
    "lillie.test(df$Prom_Leng)\n",
    "#me da un valor muy chico\n",
    "#no tienen distribucion normal, entonces utilizo una medida no parametrica (spearman)\n",
    "\n",
    "cor.test(df$Prom_Mat, df$Prom_Leng, method=\"spearman\")"
   ]
  },
  {
   "cell_type": "code",
   "execution_count": null,
   "metadata": {
    "vscode": {
     "languageId": "r"
    }
   },
   "outputs": [],
   "source": [
    "#PRIMARIA\n",
    "# 6) Realice un diagrama de dispersión para detectar outlier entre las notas obtenidas por los estudiantes en Lengua\n",
    "# y Matemática de los diferentes años.\n",
    "# 7) A partir de los diagramas realizados en el punto anterior, puede detectarse en algún año una relación lineal, de\n",
    "# ser así calcule coeficientes apropiados que permitan aportar información e indique si la asociación encontrada\n",
    "# es débil, moderada, o fuerte.\n",
    "\n",
    "# 6) no se encontraron outlier.  \n",
    "#7) se usa lillie.test para ver la distribucion de los datos. los datos no tienen una distribucion normal entonces se utiliza \n",
    "# spearman para encontrar una relacion lineal.\n",
    "# todos los años tuvieron una correlacion buena ,primero: 0.9497736, segundo: 0.92351, tercero: 0.8929307, cuarto: 0.9145661, quinto: 0.9338398,\n",
    "# sexto: 0.8872828\n",
    "# como rho es cercano a 1, podemos interpretarlo como una correlación positiva\n",
    "# fuerte entre matematica y lengua. El valor del p-valor en todos los años fue por debajo de 0,05. Esto indica que hay una fuerte evidencia en contra \n",
    "# de la hipótesis nula de que no hay correlación entre matematica y lengua. "
   ]
  },
  {
   "cell_type": "code",
   "execution_count": null,
   "metadata": {
    "vscode": {
     "languageId": "r"
    }
   },
   "outputs": [],
   "source": [
    "#8\n",
    "\n",
    "x <- dplyr::select(filter(sec, Asignatura==\"MATEMATICA\"),\"Documento\",\"Promedio\")\n",
    "y <- dplyr::select(filter(sec, Asignatura==\"EDUCACION FISICA\"),\"Documento\",\"Promedio\")\n",
    "\n",
    "dim(x)\n",
    "dim(y)\n",
    "\n",
    "df <- x %>% inner_join(y, by = \"Documento\")\n",
    "df <- rename(df,Prom_Mat=Promedio.x, Prom_Edf=Promedio.y)\n",
    "\n",
    "hist(df$Prom_Mat, xlab = \"notas\", main = \"matematica\", ylim = c(0, 700), col = \"steelblue2\", border = \"white\")\n",
    "hist(df$Prom_Edf, xlab = \"notas\", main = \"ed. fisica\", col = \"steelblue2\", border = \"white\")\n",
    "\n",
    "lillie.test(df$Prom_Mat)\n",
    "lillie.test(df$Prom_Edf)\n",
    "\n",
    "head(df)\n",
    "plot(df$Prom_Mat, df$Prom_Edf, ylim = c(0, 10), xlim = c(0, 10), main = \"Notas\", xlab = \"Matemática\",\n",
    "     ylab = \"Educación Física\", col=\"green3\", pch = 16)\n",
    "cor.test(df$Prom_Mat, df$Prom_Edf, method = \"spearman\")\n",
    "\n",
    "# Logramos observar que existe una correlacion positiva entre ambas asignaturas, sin embargo es muy debil.\n",
    "# Se procede a un segundo analisis.\n"
   ]
  },
  {
   "cell_type": "code",
   "execution_count": null,
   "metadata": {
    "vscode": {
     "languageId": "r"
    }
   },
   "outputs": [],
   "source": [
    "x <- dplyr::select(filter(sec, Asignatura==\"MATEMATICA\" & AnoCursado== \"1\" & Turno == \"MAÑANA\" & EsPrivada == \"N\" & ModEnsenanza == \"Comun\"),\"Documento\",\"Promedio\")\n",
    "y <- dplyr::select(filter(sec, Asignatura==\"EDUCACION FISICA\" & AnoCursado== \"1\" & Turno == \"MAÑANA\" & EsPrivada == \"N\" & ModEnsenanza == \"Comun\"),\"Documento\",\"Promedio\")\n",
    "\n",
    "dim(x)\n",
    "dim(y)\n",
    "\n",
    "df <- x %>% inner_join(y, by = \"Documento\")\n",
    "df<-rename(df,Prom_Mat=Promedio.x, Prom_Edf=Promedio.y)\n",
    "\n",
    "hist(df$Prom_Mat, xlab = \"notas\", main = \"matematica\", col = \"steelblue2\", border = \"white\")\n",
    "hist(df$Prom_Edf, xlab = \"notas\", main = \"ed. fisica\", col = \"steelblue2\", border = \"white\")\n",
    "\n",
    "lillie.test(df$Prom_Mat)\n",
    "lillie.test(df$Prom_Edf)\n",
    "\n",
    "head(df)\n",
    "plot(df$Prom_Mat, df$Prom_Edf, ylim = c(0, 10), xlim = c(0, 10), main = \"Promedios 1er año escuelas públicas - turno mañana - comun\",\n",
    "     xlab = \"Matemática\", ylab = \"Educación Física\", col=\"green3\", pch = 16)\n",
    "cor.test(df$Prom_Mat, df$Prom_Edf, method = \"spearman\")\n",
    "\n",
    "# Para este segundo analisis, se aplicaron otros filtros sobre los datos (turno mañana, modalidad común, escuela pública), \n",
    "# a fin de eliminar variables que podrian estar interfiriendo en los resultados esperados.\n",
    "# En la segunda muestra, con un tamaño inferior, se observa que la correlacion ha aumentado de 0.334 a 0.427\n",
    "# por lo cual no podemos afirmar la hipotesis de que a los estudiantes que les va bien en Matemática,\n",
    "# no les va bien en Educación Física."
   ]
  },
  {
   "cell_type": "code",
   "execution_count": null,
   "metadata": {
    "vscode": {
     "languageId": "r"
    }
   },
   "outputs": [],
   "source": [
    "# 9\n",
    "\n",
    "mat <- dplyr::select(filter(sec, Asignatura==\"MATEMATICA\" & ModEnsenanza == \"Comun\"),\"Documento\",\"Promedio\")\n",
    "edf <- dplyr::select(filter(sec, Asignatura==\"EDUCACION FISICA\" & ModEnsenanza == \"Comun\"),\"Documento\",\"Promedio\")\n",
    "leng <- dplyr::select(filter(sec, Asignatura==\"LENGUA Y LITERATURA\" & ModEnsenanza == \"Comun\"),\"Documento\",\"Promedio\")\n",
    "bio <- dplyr::select(filter(sec, Asignatura==\"BIOLOGIA\" & ModEnsenanza == \"Comun\"),\"Documento\",\"Promedio\")\n",
    "geo <- dplyr::select(filter(sec, Asignatura==\"GEOGRAFIA\" & ModEnsenanza == \"Comun\"),\"Documento\",\"Promedio\")\n",
    "\n",
    "df <- mat %>% inner_join(edf, by = \"Documento\") %>% inner_join(leng, by = \"Documento\") %>% inner_join(bio, by = \"Documento\") %>% inner_join(geo, by = \"Documento\")\n",
    "df <- rename(df, prom_mat = Promedio.x, prom_edf = Promedio.y, prom_leng = Promedio.x.x, prom_bio = Promedio.y.y, prom_geo = Promedio)\n",
    "head(df)\n",
    "\n",
    "pcor(df[,2:6], method = \"spearman\")"
   ]
  },
  {
   "cell_type": "code",
   "execution_count": null,
   "metadata": {
    "vscode": {
     "languageId": "r"
    }
   },
   "outputs": [],
   "source": [
    "# Analisis extras - tablas de porcentaje de aprobados.\n",
    "sec_1 = sec %>% filter(AnoCursado == \"1\" & Asignatura != \"FISICA\" )\n",
    "aprobados <- aggregate(Resultado ~ Asignatura, sec_1, function(x) sum(x == \"Aprobado\")/length(x))\n",
    "aprobados                \n",
    "                       \n",
    "sec_1 = sec %>% filter(AnoCursado == \"2\" & Asignatura != \"QUIMICA\" )\n",
    "aprobados <- aggregate(Resultado ~ Asignatura, sec_1, function(x) sum(x == \"Aprobado\")/length(x))                       \n",
    "aprobados\n",
    "                       \n",
    "sec_1 = sec %>% filter(AnoCursado == \"3\" )\n",
    "aprobados <- aggregate(Resultado ~ Asignatura, sec_1, function(x) sum(x == \"Aprobado\")/length(x))                     \n",
    "aprobados\n",
    "                       \n",
    "sec_1 = sec %>% filter(AnoCursado == \"4\" )\n",
    "aprobados <- aggregate(Resultado ~ Asignatura, sec_1, function(x) sum(x == \"Aprobado\")/length(x))                     \n",
    "aprobados                   \n",
    "                       \n",
    "sec_1 = sec %>% filter(AnoCursado == \"5\" )\n",
    "aprobados <- aggregate(Resultado ~ Asignatura, sec_1, function(x) sum(x == \"Aprobado\")/length(x))                     \n",
    "aprobados\n",
    "                       \n",
    "sec_1 = sec %>% filter(AnoCursado == \"6\" & Asignatura != \"INGLES\")\n",
    "aprobados <- aggregate(Resultado ~ Asignatura, sec_1, function(x) sum(x == \"Aprobado\")/length(x))                      \n",
    "aprobados"
   ]
  }
 ],
 "metadata": {
  "language_info": {
   "name": "python"
  },
  "orig_nbformat": 4
 },
 "nbformat": 4,
 "nbformat_minor": 2
}
